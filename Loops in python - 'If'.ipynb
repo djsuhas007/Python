{
 "cells": [
  {
   "cell_type": "code",
   "execution_count": null,
   "metadata": {},
   "outputs": [],
   "source": [
    "sal=15000"
   ]
  },
  {
   "cell_type": "code",
   "execution_count": null,
   "metadata": {},
   "outputs": [],
   "source": [
    "sal=300000"
   ]
  },
  {
   "cell_type": "code",
   "execution_count": null,
   "metadata": {},
   "outputs": [],
   "source": [
    "if(sal < 200000):\n",
    "               print(\"No taxes\")\n",
    "elif(sal >= 200000 and sal < 500000):\n",
    "        sal=(0+sal-200000)*0.1\n",
    "              print( \"tax to be paid is %.2f\"%(sal,tax))\n",
    "elif(sal >= 500000 and sal < 1000000):\n",
    "            sal=0+30000+(sal-500000)*.2\n",
    "            print( \"tax to be paid is %.2f\"%(sal,tax))\n",
    "else(sal > 1000000):\n",
    "                sal=0+30000+100000+(sal-100000)*.3\n",
    "                print( \"tax to be paid is %.2f\"%(sal,tax))\n",
    "                \n",
    "            \n",
    "        "
   ]
  },
  {
   "cell_type": "code",
   "execution_count": null,
   "metadata": {},
   "outputs": [],
   "source": [
    "num = 243\n",
    "if num%2 == 0:\n",
    "    print(\"%d is the even number\"%num)\n",
    "else:\n",
    "    print(\"%d is the odd number\"%num)"
   ]
  },
  {
   "cell_type": "code",
   "execution_count": 11,
   "metadata": {},
   "outputs": [
    {
     "name": "stdout",
     "output_type": "stream",
     "text": [
      "enter the number22\n",
      "22 is the even number\n"
     ]
    }
   ],
   "source": [
    "num=int(input(\"enter the number\"))\n",
    "if num%2 == 0:\n",
    "    print(\"%d is the even number\"%num)\n",
    "else:\n",
    "    print(\"%d is the odd number\"%num)\n"
   ]
  },
  {
   "cell_type": "code",
   "execution_count": 3,
   "metadata": {},
   "outputs": [
    {
     "name": "stdout",
     "output_type": "stream",
     "text": [
      "The number is divisible by 3\n",
      "The number is NOT divisible by 3\n",
      "The number is NOT divisible by 3\n",
      "The number is divisible by 3\n",
      "The number is NOT divisible by 3\n",
      "The number is NOT divisible by 3\n",
      "The number is divisible by 3\n",
      "The number is NOT divisible by 3\n",
      "The number is NOT divisible by 3\n",
      "The number is divisible by 3\n",
      "The number is NOT divisible by 3\n",
      "The number is NOT divisible by 3\n",
      "The number is divisible by 3\n",
      "The number is NOT divisible by 3\n",
      "The number is NOT divisible by 3\n",
      "The number is divisible by 3\n",
      "The number is NOT divisible by 3\n",
      "The number is NOT divisible by 3\n",
      "The number is divisible by 3\n",
      "The number is NOT divisible by 3\n",
      "The number is NOT divisible by 3\n",
      "The number is divisible by 3\n",
      "The number is NOT divisible by 3\n",
      "The number is NOT divisible by 3\n",
      "The number is divisible by 3\n",
      "The number is NOT divisible by 3\n",
      "The number is NOT divisible by 3\n",
      "The number is divisible by 3\n",
      "The number is NOT divisible by 3\n",
      "The number is NOT divisible by 3\n"
     ]
    }
   ],
   "source": [
    "\n",
    "for i in range(0,30):\n",
    " if (i%3==0):\n",
    "    print(\"The number is divisible by 3\")\n",
    " else:\n",
    "    print(\"The number is NOT divisible by 3\")"
   ]
  },
  {
   "cell_type": "code",
   "execution_count": null,
   "metadata": {},
   "outputs": [],
   "source": [
    "def sum(x,y):\n",
    "    return x+y"
   ]
  },
  {
   "cell_type": "code",
   "execution_count": null,
   "metadata": {},
   "outputs": [],
   "source": [
    "a=sum(2,3)"
   ]
  },
  {
   "cell_type": "code",
   "execution_count": null,
   "metadata": {},
   "outputs": [],
   "source": [
    "a"
   ]
  },
  {
   "cell_type": "code",
   "execution_count": null,
   "metadata": {},
   "outputs": [],
   "source": [
    "def square(x):\n",
    "    return x**2"
   ]
  },
  {
   "cell_type": "code",
   "execution_count": null,
   "metadata": {},
   "outputs": [],
   "source": [
    "p=square(4)"
   ]
  },
  {
   "cell_type": "code",
   "execution_count": null,
   "metadata": {},
   "outputs": [],
   "source": [
    "p"
   ]
  },
  {
   "cell_type": "code",
   "execution_count": null,
   "metadata": {},
   "outputs": [],
   "source": [
    "def square(x):\n",
    "    return x*X"
   ]
  },
  {
   "cell_type": "code",
   "execution_count": null,
   "metadata": {},
   "outputs": [],
   "source": [
    "a=square(5)"
   ]
  },
  {
   "cell_type": "code",
   "execution_count": null,
   "metadata": {},
   "outputs": [],
   "source": [
    "def square(x):\n",
    "    return x*x"
   ]
  },
  {
   "cell_type": "code",
   "execution_count": null,
   "metadata": {},
   "outputs": [],
   "source": [
    "a=square(5)"
   ]
  },
  {
   "cell_type": "code",
   "execution_count": null,
   "metadata": {},
   "outputs": [],
   "source": [
    "a"
   ]
  },
  {
   "cell_type": "code",
   "execution_count": 1,
   "metadata": {},
   "outputs": [],
   "source": [
    "num=[1,3,5,6]"
   ]
  },
  {
   "cell_type": "code",
   "execution_count": 5,
   "metadata": {},
   "outputs": [
    {
     "name": "stdout",
     "output_type": "stream",
     "text": [
      "1 is not divisible by 3\n",
      "3 is divisible bt 3\n",
      "5 is not divisible by 3\n",
      "6 is divisible bt 3\n"
     ]
    }
   ],
   "source": [
    "num=[1,3,5,6]\n",
    "for i in range(0,len(num),1):\n",
    "    if (num[i]%3==0):\n",
    "     print(\"%.0f is divisible bt 3\"%num[i])\n",
    "    else:\n",
    "     print(\"%.0f is not divisible by 3\"%num[i])"
   ]
  },
  {
   "cell_type": "code",
   "execution_count": 31,
   "metadata": {},
   "outputs": [],
   "source": [
    "def sum(x,y):\n",
    " return x+y"
   ]
  },
  {
   "cell_type": "code",
   "execution_count": 32,
   "metadata": {},
   "outputs": [],
   "source": [
    "a=sum(2,4)"
   ]
  },
  {
   "cell_type": "code",
   "execution_count": 33,
   "metadata": {},
   "outputs": [
    {
     "data": {
      "text/plain": [
       "6"
      ]
     },
     "execution_count": 33,
     "metadata": {},
     "output_type": "execute_result"
    }
   ],
   "source": [
    "a"
   ]
  },
  {
   "cell_type": "code",
   "execution_count": null,
   "metadata": {},
   "outputs": [],
   "source": []
  }
 ],
 "metadata": {
  "kernelspec": {
   "display_name": "Python 3",
   "language": "python",
   "name": "python3"
  },
  "language_info": {
   "codemirror_mode": {
    "name": "ipython",
    "version": 3
   },
   "file_extension": ".py",
   "mimetype": "text/x-python",
   "name": "python",
   "nbconvert_exporter": "python",
   "pygments_lexer": "ipython3",
   "version": "3.6.4"
  }
 },
 "nbformat": 4,
 "nbformat_minor": 2
}
