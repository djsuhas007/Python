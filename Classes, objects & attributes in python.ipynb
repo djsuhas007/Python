{
 "cells": [
  {
   "cell_type": "code",
   "execution_count": 1,
   "metadata": {},
   "outputs": [],
   "source": [
    "# classes, objects, attributes"
   ]
  },
  {
   "cell_type": "code",
   "execution_count": 10,
   "metadata": {},
   "outputs": [],
   "source": [
    "class Test:\n",
    "    a=10\n",
    "    def showdata(self):\n",
    "        print(\"The value of a is :\" ,self.a)"
   ]
  },
  {
   "cell_type": "code",
   "execution_count": 11,
   "metadata": {},
   "outputs": [],
   "source": [
    "t1=Test()"
   ]
  },
  {
   "cell_type": "code",
   "execution_count": 12,
   "metadata": {},
   "outputs": [
    {
     "name": "stdout",
     "output_type": "stream",
     "text": [
      "<__main__.Test object at 0x00000155BDB45128>\n"
     ]
    }
   ],
   "source": [
    "print(t1)"
   ]
  },
  {
   "cell_type": "code",
   "execution_count": 13,
   "metadata": {},
   "outputs": [
    {
     "data": {
      "text/plain": [
       "10"
      ]
     },
     "execution_count": 13,
     "metadata": {},
     "output_type": "execute_result"
    }
   ],
   "source": [
    "t1.a"
   ]
  },
  {
   "cell_type": "code",
   "execution_count": 14,
   "metadata": {},
   "outputs": [
    {
     "name": "stdout",
     "output_type": "stream",
     "text": [
      "The value of a is : 10\n"
     ]
    }
   ],
   "source": [
    "t1.showdata()"
   ]
  },
  {
   "cell_type": "code",
   "execution_count": 15,
   "metadata": {},
   "outputs": [
    {
     "data": {
      "text/plain": [
       "{}"
      ]
     },
     "execution_count": 15,
     "metadata": {},
     "output_type": "execute_result"
    }
   ],
   "source": [
    "t1.__dict__"
   ]
  },
  {
   "cell_type": "code",
   "execution_count": 17,
   "metadata": {},
   "outputs": [],
   "source": [
    "t1.a=20"
   ]
  },
  {
   "cell_type": "code",
   "execution_count": 18,
   "metadata": {},
   "outputs": [
    {
     "name": "stdout",
     "output_type": "stream",
     "text": [
      "The value of a is : 20\n"
     ]
    }
   ],
   "source": [
    "t1.showdata()"
   ]
  },
  {
   "cell_type": "code",
   "execution_count": 20,
   "metadata": {},
   "outputs": [
    {
     "name": "stdout",
     "output_type": "stream",
     "text": [
      "Help on Test in module __main__ object:\n",
      "\n",
      "class Test(builtins.object)\n",
      " |  Methods defined here:\n",
      " |  \n",
      " |  showdata(self)\n",
      " |  \n",
      " |  ----------------------------------------------------------------------\n",
      " |  Data descriptors defined here:\n",
      " |  \n",
      " |  __dict__\n",
      " |      dictionary for instance variables (if defined)\n",
      " |  \n",
      " |  __weakref__\n",
      " |      list of weak references to the object (if defined)\n",
      " |  \n",
      " |  ----------------------------------------------------------------------\n",
      " |  Data and other attributes defined here:\n",
      " |  \n",
      " |  a = 10\n",
      "\n"
     ]
    }
   ],
   "source": [
    "help(t1)"
   ]
  },
  {
   "cell_type": "code",
   "execution_count": 21,
   "metadata": {},
   "outputs": [
    {
     "data": {
      "text/plain": [
       "{'In': ['',\n",
       "  '# classes, objects, attributes',\n",
       "  'class Test:\\n    a=10\\n    def showdata(self):\\n        print(\"The value of a is : \"self.a)',\n",
       "  'class Test:\\n    a=10\\n    def showdata(self):\\n        print(\"The value of a is : \" self.a)',\n",
       "  'class Test:\\n    a=10\\n    def showdata(self):\\n        print(\"The value of a is : \" ,self.a)',\n",
       "  't1=Test()',\n",
       "  'print(t1)',\n",
       "  't1.value()',\n",
       "  't1.a',\n",
       "  't1.showdata()',\n",
       "  'class Test:\\n    a=10\\n    def showdata(self):\\n        print(\"The value of a is :\" ,self.a)',\n",
       "  't1=Test()',\n",
       "  'print(t1)',\n",
       "  't1.a',\n",
       "  't1.showdata()',\n",
       "  't1.__dict__',\n",
       "  't1.20=20',\n",
       "  't1.a=20',\n",
       "  't1.showdata()',\n",
       "  't1.help()',\n",
       "  'help(t1)',\n",
       "  'locals()'],\n",
       " 'Out': {8: 10, 13: 10, 15: {'a': 20}},\n",
       " 'Test': __main__.Test,\n",
       " '_': {'a': 20},\n",
       " '_13': 10,\n",
       " '_15': {'a': 20},\n",
       " '_8': 10,\n",
       " '__': 10,\n",
       " '___': 10,\n",
       " '__builtin__': <module 'builtins' (built-in)>,\n",
       " '__builtins__': <module 'builtins' (built-in)>,\n",
       " '__doc__': 'Automatically created module for IPython interactive environment',\n",
       " '__loader__': None,\n",
       " '__name__': '__main__',\n",
       " '__package__': None,\n",
       " '__spec__': None,\n",
       " '_dh': ['C:\\\\Users\\\\Lenovo'],\n",
       " '_i': 'help(t1)',\n",
       " '_i1': '# classes, objects, attributes',\n",
       " '_i10': 'class Test:\\n    a=10\\n    def showdata(self):\\n        print(\"The value of a is :\" ,self.a)',\n",
       " '_i11': 't1=Test()',\n",
       " '_i12': 'print(t1)',\n",
       " '_i13': 't1.a',\n",
       " '_i14': 't1.showdata()',\n",
       " '_i15': 't1.__dict__',\n",
       " '_i16': 't1.20=20',\n",
       " '_i17': 't1.a=20',\n",
       " '_i18': 't1.showdata()',\n",
       " '_i19': 't1.help()',\n",
       " '_i2': 'class Test:\\n    a=10\\n    def showdata(self):\\n        print(\"The value of a is : \"self.a)',\n",
       " '_i20': 'help(t1)',\n",
       " '_i21': 'locals()',\n",
       " '_i3': 'class Test:\\n    a=10\\n    def showdata(self):\\n        print(\"The value of a is : \" self.a)',\n",
       " '_i4': 'class Test:\\n    a=10\\n    def showdata(self):\\n        print(\"The value of a is : \" ,self.a)',\n",
       " '_i5': 't1=Test()',\n",
       " '_i6': 'print(t1)',\n",
       " '_i7': 't1.value()',\n",
       " '_i8': 't1.a',\n",
       " '_i9': 't1.showdata()',\n",
       " '_ih': ['',\n",
       "  '# classes, objects, attributes',\n",
       "  'class Test:\\n    a=10\\n    def showdata(self):\\n        print(\"The value of a is : \"self.a)',\n",
       "  'class Test:\\n    a=10\\n    def showdata(self):\\n        print(\"The value of a is : \" self.a)',\n",
       "  'class Test:\\n    a=10\\n    def showdata(self):\\n        print(\"The value of a is : \" ,self.a)',\n",
       "  't1=Test()',\n",
       "  'print(t1)',\n",
       "  't1.value()',\n",
       "  't1.a',\n",
       "  't1.showdata()',\n",
       "  'class Test:\\n    a=10\\n    def showdata(self):\\n        print(\"The value of a is :\" ,self.a)',\n",
       "  't1=Test()',\n",
       "  'print(t1)',\n",
       "  't1.a',\n",
       "  't1.showdata()',\n",
       "  't1.__dict__',\n",
       "  't1.20=20',\n",
       "  't1.a=20',\n",
       "  't1.showdata()',\n",
       "  't1.help()',\n",
       "  'help(t1)',\n",
       "  'locals()'],\n",
       " '_ii': 't1.help()',\n",
       " '_iii': 't1.showdata()',\n",
       " '_oh': {8: 10, 13: 10, 15: {'a': 20}},\n",
       " 'exit': <IPython.core.autocall.ZMQExitAutocall at 0x155bc9dee48>,\n",
       " 'get_ipython': <bound method InteractiveShell.get_ipython of <ipykernel.zmqshell.ZMQInteractiveShell object at 0x00000155BC9892B0>>,\n",
       " 'quit': <IPython.core.autocall.ZMQExitAutocall at 0x155bc9dee48>,\n",
       " 't1': <__main__.Test at 0x155bdb45128>}"
      ]
     },
     "execution_count": 21,
     "metadata": {},
     "output_type": "execute_result"
    }
   ],
   "source": [
    "locals()"
   ]
  },
  {
   "cell_type": "code",
   "execution_count": 22,
   "metadata": {},
   "outputs": [
    {
     "data": {
      "text/plain": [
       "{'In': ['',\n",
       "  '# classes, objects, attributes',\n",
       "  'class Test:\\n    a=10\\n    def showdata(self):\\n        print(\"The value of a is : \"self.a)',\n",
       "  'class Test:\\n    a=10\\n    def showdata(self):\\n        print(\"The value of a is : \" self.a)',\n",
       "  'class Test:\\n    a=10\\n    def showdata(self):\\n        print(\"The value of a is : \" ,self.a)',\n",
       "  't1=Test()',\n",
       "  'print(t1)',\n",
       "  't1.value()',\n",
       "  't1.a',\n",
       "  't1.showdata()',\n",
       "  'class Test:\\n    a=10\\n    def showdata(self):\\n        print(\"The value of a is :\" ,self.a)',\n",
       "  't1=Test()',\n",
       "  'print(t1)',\n",
       "  't1.a',\n",
       "  't1.showdata()',\n",
       "  't1.__dict__',\n",
       "  't1.20=20',\n",
       "  't1.a=20',\n",
       "  't1.showdata()',\n",
       "  't1.help()',\n",
       "  'help(t1)',\n",
       "  'locals()',\n",
       "  'globals()'],\n",
       " 'Out': {8: 10, 13: 10, 15: {'a': 20}, 21: {...}},\n",
       " 'Test': __main__.Test,\n",
       " '_': {...},\n",
       " '_13': 10,\n",
       " '_15': {'a': 20},\n",
       " '_21': {...},\n",
       " '_8': 10,\n",
       " '__': {'a': 20},\n",
       " '___': 10,\n",
       " '__builtin__': <module 'builtins' (built-in)>,\n",
       " '__builtins__': <module 'builtins' (built-in)>,\n",
       " '__doc__': 'Automatically created module for IPython interactive environment',\n",
       " '__loader__': None,\n",
       " '__name__': '__main__',\n",
       " '__package__': None,\n",
       " '__spec__': None,\n",
       " '_dh': ['C:\\\\Users\\\\Lenovo'],\n",
       " '_i': 'locals()',\n",
       " '_i1': '# classes, objects, attributes',\n",
       " '_i10': 'class Test:\\n    a=10\\n    def showdata(self):\\n        print(\"The value of a is :\" ,self.a)',\n",
       " '_i11': 't1=Test()',\n",
       " '_i12': 'print(t1)',\n",
       " '_i13': 't1.a',\n",
       " '_i14': 't1.showdata()',\n",
       " '_i15': 't1.__dict__',\n",
       " '_i16': 't1.20=20',\n",
       " '_i17': 't1.a=20',\n",
       " '_i18': 't1.showdata()',\n",
       " '_i19': 't1.help()',\n",
       " '_i2': 'class Test:\\n    a=10\\n    def showdata(self):\\n        print(\"The value of a is : \"self.a)',\n",
       " '_i20': 'help(t1)',\n",
       " '_i21': 'locals()',\n",
       " '_i22': 'globals()',\n",
       " '_i3': 'class Test:\\n    a=10\\n    def showdata(self):\\n        print(\"The value of a is : \" self.a)',\n",
       " '_i4': 'class Test:\\n    a=10\\n    def showdata(self):\\n        print(\"The value of a is : \" ,self.a)',\n",
       " '_i5': 't1=Test()',\n",
       " '_i6': 'print(t1)',\n",
       " '_i7': 't1.value()',\n",
       " '_i8': 't1.a',\n",
       " '_i9': 't1.showdata()',\n",
       " '_ih': ['',\n",
       "  '# classes, objects, attributes',\n",
       "  'class Test:\\n    a=10\\n    def showdata(self):\\n        print(\"The value of a is : \"self.a)',\n",
       "  'class Test:\\n    a=10\\n    def showdata(self):\\n        print(\"The value of a is : \" self.a)',\n",
       "  'class Test:\\n    a=10\\n    def showdata(self):\\n        print(\"The value of a is : \" ,self.a)',\n",
       "  't1=Test()',\n",
       "  'print(t1)',\n",
       "  't1.value()',\n",
       "  't1.a',\n",
       "  't1.showdata()',\n",
       "  'class Test:\\n    a=10\\n    def showdata(self):\\n        print(\"The value of a is :\" ,self.a)',\n",
       "  't1=Test()',\n",
       "  'print(t1)',\n",
       "  't1.a',\n",
       "  't1.showdata()',\n",
       "  't1.__dict__',\n",
       "  't1.20=20',\n",
       "  't1.a=20',\n",
       "  't1.showdata()',\n",
       "  't1.help()',\n",
       "  'help(t1)',\n",
       "  'locals()',\n",
       "  'globals()'],\n",
       " '_ii': 'help(t1)',\n",
       " '_iii': 't1.help()',\n",
       " '_oh': {8: 10, 13: 10, 15: {'a': 20}, 21: {...}},\n",
       " 'exit': <IPython.core.autocall.ZMQExitAutocall at 0x155bc9dee48>,\n",
       " 'get_ipython': <bound method InteractiveShell.get_ipython of <ipykernel.zmqshell.ZMQInteractiveShell object at 0x00000155BC9892B0>>,\n",
       " 'quit': <IPython.core.autocall.ZMQExitAutocall at 0x155bc9dee48>,\n",
       " 't1': <__main__.Test at 0x155bdb45128>}"
      ]
     },
     "execution_count": 22,
     "metadata": {},
     "output_type": "execute_result"
    }
   ],
   "source": [
    "globals()"
   ]
  },
  {
   "cell_type": "code",
   "execution_count": 1,
   "metadata": {},
   "outputs": [],
   "source": [
    "z=[]"
   ]
  },
  {
   "cell_type": "code",
   "execution_count": 2,
   "metadata": {},
   "outputs": [
    {
     "data": {
      "text/plain": [
       "list"
      ]
     },
     "execution_count": 2,
     "metadata": {},
     "output_type": "execute_result"
    }
   ],
   "source": [
    "type(z)"
   ]
  },
  {
   "cell_type": "code",
   "execution_count": 4,
   "metadata": {},
   "outputs": [
    {
     "ename": "SyntaxError",
     "evalue": "invalid syntax (<ipython-input-4-3339761f761a>, line 1)",
     "output_type": "error",
     "traceback": [
      "\u001b[1;36m  File \u001b[1;32m\"<ipython-input-4-3339761f761a>\"\u001b[1;36m, line \u001b[1;32m1\u001b[0m\n\u001b[1;33m    Z.append((1:10))\u001b[0m\n\u001b[1;37m               ^\u001b[0m\n\u001b[1;31mSyntaxError\u001b[0m\u001b[1;31m:\u001b[0m invalid syntax\n"
     ]
    }
   ],
   "source": [
    "Z.append((1:10))"
   ]
  },
  {
   "cell_type": "code",
   "execution_count": 6,
   "metadata": {},
   "outputs": [],
   "source": [
    "z=z.append(1)"
   ]
  },
  {
   "cell_type": "code",
   "execution_count": 7,
   "metadata": {},
   "outputs": [],
   "source": [
    "z"
   ]
  },
  {
   "cell_type": "code",
   "execution_count": 8,
   "metadata": {},
   "outputs": [],
   "source": [
    "z"
   ]
  },
  {
   "cell_type": "code",
   "execution_count": 9,
   "metadata": {},
   "outputs": [
    {
     "name": "stdout",
     "output_type": "stream",
     "text": [
      "None\n"
     ]
    }
   ],
   "source": [
    "print(z)"
   ]
  },
  {
   "cell_type": "code",
   "execution_count": 10,
   "metadata": {},
   "outputs": [
    {
     "data": {
      "text/plain": [
       "NoneType"
      ]
     },
     "execution_count": 10,
     "metadata": {},
     "output_type": "execute_result"
    }
   ],
   "source": [
    "type(None)"
   ]
  },
  {
   "cell_type": "code",
   "execution_count": 12,
   "metadata": {},
   "outputs": [
    {
     "name": "stdout",
     "output_type": "stream",
     "text": [
      "enter anything13423141\n",
      "13423141\n"
     ]
    }
   ],
   "source": [
    "i=input(\"enter anything\")\n",
    "print(str(i))"
   ]
  },
  {
   "cell_type": "code",
   "execution_count": 13,
   "metadata": {},
   "outputs": [
    {
     "data": {
      "text/plain": [
       "str"
      ]
     },
     "execution_count": 13,
     "metadata": {},
     "output_type": "execute_result"
    }
   ],
   "source": [
    "type(i)"
   ]
  },
  {
   "cell_type": "code",
   "execution_count": null,
   "metadata": {},
   "outputs": [],
   "source": []
  }
 ],
 "metadata": {
  "kernelspec": {
   "display_name": "Python 3",
   "language": "python",
   "name": "python3"
  },
  "language_info": {
   "codemirror_mode": {
    "name": "ipython",
    "version": 3
   },
   "file_extension": ".py",
   "mimetype": "text/x-python",
   "name": "python",
   "nbconvert_exporter": "python",
   "pygments_lexer": "ipython3",
   "version": "3.6.4"
  }
 },
 "nbformat": 4,
 "nbformat_minor": 2
}
