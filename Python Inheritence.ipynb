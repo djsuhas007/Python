{
 "cells": [
  {
   "cell_type": "code",
   "execution_count": 1,
   "metadata": {},
   "outputs": [
    {
     "data": {
      "text/plain": [
       "'\\nInherit - to take from\\nProperties taken from parent class\\nsingle level - 1 parent 1 class\\n\\n\\n\\n\\n\\n\\n\\n\\n\\n\\n\\n\\n\\n'"
      ]
     },
     "execution_count": 1,
     "metadata": {},
     "output_type": "execute_result"
    }
   ],
   "source": [
    "# functions are methods\n",
    "\n",
    "'''\n",
    "Inherit - to take from\n",
    "Properties taken from parent class\n",
    "single level - 1 parent 1 class\n",
    "\n",
    "\n",
    "\n",
    "\n",
    "\n",
    "\n",
    "\n",
    "\n",
    "\n",
    "\n",
    "\n",
    "\n",
    "\n",
    "'''"
   ]
  },
  {
   "cell_type": "code",
   "execution_count": null,
   "metadata": {},
   "outputs": [
    {
     "name": "stdout",
     "output_type": "stream",
     "text": [
      "Enter 1. Create account 2. Check Balance 3. Show customer info 4. exit1\n",
      "Enter your name : suhas\n",
      "Account type saving or current : savinG\n",
      "Min amount is 500 INR to create : 4000\n",
      "Your account number is  1072020\n",
      "Name is :  suhas\n",
      "Balnce is :  4000\n",
      "Enter 1. Create account 2. Check Balance 3. Show customer info 4. exit4\n"
     ]
    }
   ],
   "source": [
    "import datetime\n",
    "\n",
    "class Bank:\n",
    "   \"\"\"\n",
    "   Bank is parent class which will have all comman methods\n",
    "   \"\"\"\n",
    "   customers_details = list()\n",
    "   \n",
    "   def generate_ac_number(self):\n",
    "       \"\"\"\n",
    "       #uuid\n",
    "       \"\"\"\n",
    "       return int(datetime.datetime.now().strftime(\"%d%M%Y\"))\n",
    "   \n",
    "   def create_ac(self, name, account_type, amount):\n",
    "       customer_detail = dict()\n",
    "       customer_detail['account_number'] = self.generate_ac_number()\n",
    "       customer_detail['name'] = name\n",
    "       customer_detail['account_type'] = account_type\n",
    "       customer_detail['amount'] = amount\n",
    "       self.customers_details.append(customer_detail)\n",
    "       return customer_detail['account_number']\n",
    "   \n",
    "   def show_customer_info(self, account_number):\n",
    "       pass\n",
    "   \n",
    "   def is_valid_customer(self, account_number):\n",
    "       pass\n",
    "\n",
    "class Customer(Bank):\n",
    "   \"\"\"\n",
    "   Customer is child class which will access all methods from bank    \n",
    "   \"\"\"\n",
    "   #def create_ac(self,name, account_type, amount):\n",
    "   #    pass\n",
    "   \n",
    "   def show_customer_info(self, account_number):\n",
    "       for customer in self.customers_details:\n",
    "           if customer['account_number'] == account_number:\n",
    "               print(\"Name is : \", customer['name'])\n",
    "               print(\"Balnce is : \", customer['amount'])\n",
    "   \n",
    "   def check_balance(self, account_number):\n",
    "       for customer in self.customers_details:\n",
    "           if customer['account_number'] == account_number:\n",
    "               print(\"Balnce is : \", customer['amount'])\n",
    "   \n",
    "if __name__ == \"__main__\":\n",
    "   customer = Customer()\n",
    "   while True:\n",
    "       user_input = int(input(\"Enter 1. Create account 2. Check Balance 3. Show customer info 4. exit\"))\n",
    "       \n",
    "       if user_input == 1:\n",
    "           name = input(\"Enter your name : \")\n",
    "           account_type = input(\"Account type saving or current : \")\n",
    "           assert account_type.lower() in ['saving', 'current'], \"Account type is not valid\"\n",
    "           amount = int(input(\"Min amount is 500 INR to create : \"))\n",
    "           assert amount >=500, \"Min amount is 500\"\n",
    "           account_number = customer.create_ac(name, account_type, amount)\n",
    "           print(\"Your account number is \", account_number)\n",
    "           customer.show_customer_info(account_number)\n",
    "           \n",
    "       elif user_input == 2:\n",
    "           account_number = int(input(\"Enter your account number\"))\n",
    "           customer.check_balance(account_number)\n",
    "           \n",
    "       elif user_input == 3:\n",
    "           account_number = int(input(\"Enter your account number\"))\n",
    "           customer.show_customer_info(account_number)"
   ]
  },
  {
   "cell_type": "code",
   "execution_count": null,
   "metadata": {},
   "outputs": [],
   "source": []
  }
 ],
 "metadata": {
  "kernelspec": {
   "display_name": "Python 3",
   "language": "python",
   "name": "python3"
  },
  "language_info": {
   "codemirror_mode": {
    "name": "ipython",
    "version": 3
   },
   "file_extension": ".py",
   "mimetype": "text/x-python",
   "name": "python",
   "nbconvert_exporter": "python",
   "pygments_lexer": "ipython3",
   "version": "3.6.4"
  }
 },
 "nbformat": 4,
 "nbformat_minor": 2
}
