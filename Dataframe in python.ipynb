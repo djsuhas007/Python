{
 "cells": [
  {
   "cell_type": "code",
   "execution_count": 1,
   "metadata": {},
   "outputs": [],
   "source": [
    "import pandas as pd"
   ]
  },
  {
   "cell_type": "code",
   "execution_count": 7,
   "metadata": {},
   "outputs": [
    {
     "data": {
      "text/html": [
       "<div>\n",
       "<style scoped>\n",
       "    .dataframe tbody tr th:only-of-type {\n",
       "        vertical-align: middle;\n",
       "    }\n",
       "\n",
       "    .dataframe tbody tr th {\n",
       "        vertical-align: top;\n",
       "    }\n",
       "\n",
       "    .dataframe thead th {\n",
       "        text-align: right;\n",
       "    }\n",
       "</style>\n",
       "<table border=\"1\" class=\"dataframe\">\n",
       "  <thead>\n",
       "    <tr style=\"text-align: right;\">\n",
       "      <th></th>\n",
       "      <th>10</th>\n",
       "      <th>101</th>\n",
       "      <th>Abhinav</th>\n",
       "      <th>Srivastava</th>\n",
       "      <th>5000.0</th>\n",
       "    </tr>\n",
       "  </thead>\n",
       "  <tbody>\n",
       "    <tr>\n",
       "      <th>0</th>\n",
       "      <td>10</td>\n",
       "      <td>102</td>\n",
       "      <td>Vaibhav</td>\n",
       "      <td>Bajaj</td>\n",
       "      <td>6000.00</td>\n",
       "    </tr>\n",
       "    <tr>\n",
       "      <th>1</th>\n",
       "      <td>20</td>\n",
       "      <td>103</td>\n",
       "      <td>Jay</td>\n",
       "      <td>Soni</td>\n",
       "      <td>7000.08</td>\n",
       "    </tr>\n",
       "    <tr>\n",
       "      <th>2</th>\n",
       "      <td>20</td>\n",
       "      <td>104</td>\n",
       "      <td>Vishal</td>\n",
       "      <td>Bayaskar</td>\n",
       "      <td>8000.00</td>\n",
       "    </tr>\n",
       "    <tr>\n",
       "      <th>3</th>\n",
       "      <td>30</td>\n",
       "      <td>105</td>\n",
       "      <td>Anurag</td>\n",
       "      <td>Goel</td>\n",
       "      <td>9000.00</td>\n",
       "    </tr>\n",
       "  </tbody>\n",
       "</table>\n",
       "</div>"
      ],
      "text/plain": [
       "   10  101  Abhinav Srivastava   5000.0\n",
       "0  10  102  Vaibhav      Bajaj  6000.00\n",
       "1  20  103      Jay       Soni  7000.08\n",
       "2  20  104   Vishal   Bayaskar  8000.00\n",
       "3  30  105   Anurag       Goel  9000.00"
      ]
     },
     "execution_count": 7,
     "metadata": {},
     "output_type": "execute_result"
    }
   ],
   "source": [
    "pd.read_csv(\"E:/Data Science class/Datasets/Sal.csv\")"
   ]
  },
  {
   "cell_type": "code",
   "execution_count": 8,
   "metadata": {},
   "outputs": [],
   "source": [
    "cols=[\"DID\",\"EMPID\",\"FN\",\"LN\",\"SL\"]"
   ]
  },
  {
   "cell_type": "code",
   "execution_count": 9,
   "metadata": {},
   "outputs": [],
   "source": [
    "A=pd.read_csv(\"E:/Data Science class/Datasets/Sal.csv\",names=cols)"
   ]
  },
  {
   "cell_type": "code",
   "execution_count": 10,
   "metadata": {},
   "outputs": [
    {
     "data": {
      "text/html": [
       "<div>\n",
       "<style scoped>\n",
       "    .dataframe tbody tr th:only-of-type {\n",
       "        vertical-align: middle;\n",
       "    }\n",
       "\n",
       "    .dataframe tbody tr th {\n",
       "        vertical-align: top;\n",
       "    }\n",
       "\n",
       "    .dataframe thead th {\n",
       "        text-align: right;\n",
       "    }\n",
       "</style>\n",
       "<table border=\"1\" class=\"dataframe\">\n",
       "  <thead>\n",
       "    <tr style=\"text-align: right;\">\n",
       "      <th></th>\n",
       "      <th>DID</th>\n",
       "      <th>EMPID</th>\n",
       "      <th>FN</th>\n",
       "      <th>LN</th>\n",
       "      <th>SL</th>\n",
       "    </tr>\n",
       "  </thead>\n",
       "  <tbody>\n",
       "    <tr>\n",
       "      <th>0</th>\n",
       "      <td>10</td>\n",
       "      <td>101</td>\n",
       "      <td>Abhinav</td>\n",
       "      <td>Srivastava</td>\n",
       "      <td>5000.00</td>\n",
       "    </tr>\n",
       "    <tr>\n",
       "      <th>1</th>\n",
       "      <td>10</td>\n",
       "      <td>102</td>\n",
       "      <td>Vaibhav</td>\n",
       "      <td>Bajaj</td>\n",
       "      <td>6000.00</td>\n",
       "    </tr>\n",
       "    <tr>\n",
       "      <th>2</th>\n",
       "      <td>20</td>\n",
       "      <td>103</td>\n",
       "      <td>Jay</td>\n",
       "      <td>Soni</td>\n",
       "      <td>7000.08</td>\n",
       "    </tr>\n",
       "    <tr>\n",
       "      <th>3</th>\n",
       "      <td>20</td>\n",
       "      <td>104</td>\n",
       "      <td>Vishal</td>\n",
       "      <td>Bayaskar</td>\n",
       "      <td>8000.00</td>\n",
       "    </tr>\n",
       "    <tr>\n",
       "      <th>4</th>\n",
       "      <td>30</td>\n",
       "      <td>105</td>\n",
       "      <td>Anurag</td>\n",
       "      <td>Goel</td>\n",
       "      <td>9000.00</td>\n",
       "    </tr>\n",
       "  </tbody>\n",
       "</table>\n",
       "</div>"
      ],
      "text/plain": [
       "   DID  EMPID       FN          LN       SL\n",
       "0   10    101  Abhinav  Srivastava  5000.00\n",
       "1   10    102  Vaibhav       Bajaj  6000.00\n",
       "2   20    103      Jay        Soni  7000.08\n",
       "3   20    104   Vishal    Bayaskar  8000.00\n",
       "4   30    105   Anurag        Goel  9000.00"
      ]
     },
     "execution_count": 10,
     "metadata": {},
     "output_type": "execute_result"
    }
   ],
   "source": [
    "A"
   ]
  },
  {
   "cell_type": "code",
   "execution_count": 12,
   "metadata": {},
   "outputs": [],
   "source": [
    "tax=[]"
   ]
  },
  {
   "cell_type": "code",
   "execution_count": 22,
   "metadata": {},
   "outputs": [],
   "source": [
    "tax = []\n",
    "for i in A.SL:\n",
    "   if(i < 7500):\n",
    "       tax.append(i * 0.1)\n",
    "   else:\n",
    "       tax.append(i * 0.2)\n",
    "            \n",
    "            \n",
    "    \n",
    "    \n",
    "    "
   ]
  },
  {
   "cell_type": "code",
   "execution_count": 23,
   "metadata": {},
   "outputs": [
    {
     "data": {
      "text/plain": [
       "[500.0, 600.0, 700.008, 1600.0, 1800.0]"
      ]
     },
     "execution_count": 23,
     "metadata": {},
     "output_type": "execute_result"
    }
   ],
   "source": [
    "tax"
   ]
  },
  {
   "cell_type": "code",
   "execution_count": 24,
   "metadata": {},
   "outputs": [],
   "source": [
    "A[\"TAX\"]=tax"
   ]
  },
  {
   "cell_type": "code",
   "execution_count": 25,
   "metadata": {},
   "outputs": [
    {
     "data": {
      "text/html": [
       "<div>\n",
       "<style scoped>\n",
       "    .dataframe tbody tr th:only-of-type {\n",
       "        vertical-align: middle;\n",
       "    }\n",
       "\n",
       "    .dataframe tbody tr th {\n",
       "        vertical-align: top;\n",
       "    }\n",
       "\n",
       "    .dataframe thead th {\n",
       "        text-align: right;\n",
       "    }\n",
       "</style>\n",
       "<table border=\"1\" class=\"dataframe\">\n",
       "  <thead>\n",
       "    <tr style=\"text-align: right;\">\n",
       "      <th></th>\n",
       "      <th>DID</th>\n",
       "      <th>EMPID</th>\n",
       "      <th>FN</th>\n",
       "      <th>LN</th>\n",
       "      <th>SL</th>\n",
       "      <th>TAX</th>\n",
       "    </tr>\n",
       "  </thead>\n",
       "  <tbody>\n",
       "    <tr>\n",
       "      <th>0</th>\n",
       "      <td>10</td>\n",
       "      <td>101</td>\n",
       "      <td>Abhinav</td>\n",
       "      <td>Srivastava</td>\n",
       "      <td>5000.00</td>\n",
       "      <td>500.000</td>\n",
       "    </tr>\n",
       "    <tr>\n",
       "      <th>1</th>\n",
       "      <td>10</td>\n",
       "      <td>102</td>\n",
       "      <td>Vaibhav</td>\n",
       "      <td>Bajaj</td>\n",
       "      <td>6000.00</td>\n",
       "      <td>600.000</td>\n",
       "    </tr>\n",
       "    <tr>\n",
       "      <th>2</th>\n",
       "      <td>20</td>\n",
       "      <td>103</td>\n",
       "      <td>Jay</td>\n",
       "      <td>Soni</td>\n",
       "      <td>7000.08</td>\n",
       "      <td>700.008</td>\n",
       "    </tr>\n",
       "    <tr>\n",
       "      <th>3</th>\n",
       "      <td>20</td>\n",
       "      <td>104</td>\n",
       "      <td>Vishal</td>\n",
       "      <td>Bayaskar</td>\n",
       "      <td>8000.00</td>\n",
       "      <td>1600.000</td>\n",
       "    </tr>\n",
       "    <tr>\n",
       "      <th>4</th>\n",
       "      <td>30</td>\n",
       "      <td>105</td>\n",
       "      <td>Anurag</td>\n",
       "      <td>Goel</td>\n",
       "      <td>9000.00</td>\n",
       "      <td>1800.000</td>\n",
       "    </tr>\n",
       "  </tbody>\n",
       "</table>\n",
       "</div>"
      ],
      "text/plain": [
       "   DID  EMPID       FN          LN       SL       TAX\n",
       "0   10    101  Abhinav  Srivastava  5000.00   500.000\n",
       "1   10    102  Vaibhav       Bajaj  6000.00   600.000\n",
       "2   20    103      Jay        Soni  7000.08   700.008\n",
       "3   20    104   Vishal    Bayaskar  8000.00  1600.000\n",
       "4   30    105   Anurag        Goel  9000.00  1800.000"
      ]
     },
     "execution_count": 25,
     "metadata": {},
     "output_type": "execute_result"
    }
   ],
   "source": [
    "A"
   ]
  },
  {
   "cell_type": "code",
   "execution_count": 27,
   "metadata": {},
   "outputs": [
    {
     "data": {
      "text/html": [
       "<div>\n",
       "<style scoped>\n",
       "    .dataframe tbody tr th:only-of-type {\n",
       "        vertical-align: middle;\n",
       "    }\n",
       "\n",
       "    .dataframe tbody tr th {\n",
       "        vertical-align: top;\n",
       "    }\n",
       "\n",
       "    .dataframe thead th {\n",
       "        text-align: right;\n",
       "    }\n",
       "</style>\n",
       "<table border=\"1\" class=\"dataframe\">\n",
       "  <thead>\n",
       "    <tr style=\"text-align: right;\">\n",
       "      <th></th>\n",
       "      <th>DID</th>\n",
       "      <th>EMPID</th>\n",
       "      <th>FN</th>\n",
       "      <th>LN</th>\n",
       "      <th>SL</th>\n",
       "      <th>TAX</th>\n",
       "    </tr>\n",
       "  </thead>\n",
       "  <tbody>\n",
       "    <tr>\n",
       "      <th>0</th>\n",
       "      <td>10</td>\n",
       "      <td>101</td>\n",
       "      <td>Abhinav</td>\n",
       "      <td>Srivastava</td>\n",
       "      <td>5000.00</td>\n",
       "      <td>500.000</td>\n",
       "    </tr>\n",
       "    <tr>\n",
       "      <th>1</th>\n",
       "      <td>10</td>\n",
       "      <td>102</td>\n",
       "      <td>Vaibhav</td>\n",
       "      <td>Bajaj</td>\n",
       "      <td>6000.00</td>\n",
       "      <td>600.000</td>\n",
       "    </tr>\n",
       "    <tr>\n",
       "      <th>2</th>\n",
       "      <td>20</td>\n",
       "      <td>103</td>\n",
       "      <td>Jay</td>\n",
       "      <td>Soni</td>\n",
       "      <td>7000.08</td>\n",
       "      <td>700.008</td>\n",
       "    </tr>\n",
       "    <tr>\n",
       "      <th>3</th>\n",
       "      <td>20</td>\n",
       "      <td>104</td>\n",
       "      <td>Vishal</td>\n",
       "      <td>Bayaskar</td>\n",
       "      <td>8000.00</td>\n",
       "      <td>1600.000</td>\n",
       "    </tr>\n",
       "    <tr>\n",
       "      <th>4</th>\n",
       "      <td>30</td>\n",
       "      <td>105</td>\n",
       "      <td>Anurag</td>\n",
       "      <td>Goel</td>\n",
       "      <td>9000.00</td>\n",
       "      <td>1800.000</td>\n",
       "    </tr>\n",
       "  </tbody>\n",
       "</table>\n",
       "</div>"
      ],
      "text/plain": [
       "   DID  EMPID       FN          LN       SL       TAX\n",
       "0   10    101  Abhinav  Srivastava  5000.00   500.000\n",
       "1   10    102  Vaibhav       Bajaj  6000.00   600.000\n",
       "2   20    103      Jay        Soni  7000.08   700.008\n",
       "3   20    104   Vishal    Bayaskar  8000.00  1600.000\n",
       "4   30    105   Anurag        Goel  9000.00  1800.000"
      ]
     },
     "execution_count": 27,
     "metadata": {},
     "output_type": "execute_result"
    }
   ],
   "source": [
    "A"
   ]
  },
  {
   "cell_type": "code",
   "execution_count": 28,
   "metadata": {},
   "outputs": [
    {
     "data": {
      "text/plain": [
       "0    Srivastava\n",
       "1         Bajaj\n",
       "2          Soni\n",
       "3      Bayaskar\n",
       "4          Goel\n",
       "Name: LN, dtype: object"
      ]
     },
     "execution_count": 28,
     "metadata": {},
     "output_type": "execute_result"
    }
   ],
   "source": [
    "A[\"LN\"]"
   ]
  },
  {
   "cell_type": "code",
   "execution_count": 29,
   "metadata": {},
   "outputs": [
    {
     "data": {
      "text/html": [
       "<div>\n",
       "<style scoped>\n",
       "    .dataframe tbody tr th:only-of-type {\n",
       "        vertical-align: middle;\n",
       "    }\n",
       "\n",
       "    .dataframe tbody tr th {\n",
       "        vertical-align: top;\n",
       "    }\n",
       "\n",
       "    .dataframe thead th {\n",
       "        text-align: right;\n",
       "    }\n",
       "</style>\n",
       "<table border=\"1\" class=\"dataframe\">\n",
       "  <thead>\n",
       "    <tr style=\"text-align: right;\">\n",
       "      <th></th>\n",
       "      <th>TAX</th>\n",
       "    </tr>\n",
       "  </thead>\n",
       "  <tbody>\n",
       "    <tr>\n",
       "      <th>0</th>\n",
       "      <td>500.000</td>\n",
       "    </tr>\n",
       "    <tr>\n",
       "      <th>1</th>\n",
       "      <td>600.000</td>\n",
       "    </tr>\n",
       "    <tr>\n",
       "      <th>2</th>\n",
       "      <td>700.008</td>\n",
       "    </tr>\n",
       "    <tr>\n",
       "      <th>3</th>\n",
       "      <td>1600.000</td>\n",
       "    </tr>\n",
       "    <tr>\n",
       "      <th>4</th>\n",
       "      <td>1800.000</td>\n",
       "    </tr>\n",
       "  </tbody>\n",
       "</table>\n",
       "</div>"
      ],
      "text/plain": [
       "        TAX\n",
       "0   500.000\n",
       "1   600.000\n",
       "2   700.008\n",
       "3  1600.000\n",
       "4  1800.000"
      ]
     },
     "execution_count": 29,
     "metadata": {},
     "output_type": "execute_result"
    }
   ],
   "source": [
    "A[[\"TAX\"]]"
   ]
  },
  {
   "cell_type": "code",
   "execution_count": 30,
   "metadata": {},
   "outputs": [
    {
     "data": {
      "text/plain": [
       "pandas.core.frame.DataFrame"
      ]
     },
     "execution_count": 30,
     "metadata": {},
     "output_type": "execute_result"
    }
   ],
   "source": [
    "type(A[[\"TAX\"]])"
   ]
  },
  {
   "cell_type": "code",
   "execution_count": 31,
   "metadata": {},
   "outputs": [
    {
     "data": {
      "text/plain": [
       "pandas.core.series.Series"
      ]
     },
     "execution_count": 31,
     "metadata": {},
     "output_type": "execute_result"
    }
   ],
   "source": [
    "type(A[\"LN\"])"
   ]
  },
  {
   "cell_type": "code",
   "execution_count": 32,
   "metadata": {},
   "outputs": [
    {
     "data": {
      "text/html": [
       "<div>\n",
       "<style scoped>\n",
       "    .dataframe tbody tr th:only-of-type {\n",
       "        vertical-align: middle;\n",
       "    }\n",
       "\n",
       "    .dataframe tbody tr th {\n",
       "        vertical-align: top;\n",
       "    }\n",
       "\n",
       "    .dataframe thead th {\n",
       "        text-align: right;\n",
       "    }\n",
       "</style>\n",
       "<table border=\"1\" class=\"dataframe\">\n",
       "  <thead>\n",
       "    <tr style=\"text-align: right;\">\n",
       "      <th></th>\n",
       "      <th>DID</th>\n",
       "      <th>EMPID</th>\n",
       "      <th>FN</th>\n",
       "      <th>LN</th>\n",
       "      <th>SL</th>\n",
       "      <th>TAX</th>\n",
       "    </tr>\n",
       "  </thead>\n",
       "  <tbody>\n",
       "    <tr>\n",
       "      <th>0</th>\n",
       "      <td>10</td>\n",
       "      <td>101</td>\n",
       "      <td>Abhinav</td>\n",
       "      <td>Srivastava</td>\n",
       "      <td>5000.00</td>\n",
       "      <td>500.000</td>\n",
       "    </tr>\n",
       "    <tr>\n",
       "      <th>1</th>\n",
       "      <td>10</td>\n",
       "      <td>102</td>\n",
       "      <td>Vaibhav</td>\n",
       "      <td>Bajaj</td>\n",
       "      <td>6000.00</td>\n",
       "      <td>600.000</td>\n",
       "    </tr>\n",
       "    <tr>\n",
       "      <th>2</th>\n",
       "      <td>20</td>\n",
       "      <td>103</td>\n",
       "      <td>Jay</td>\n",
       "      <td>Soni</td>\n",
       "      <td>7000.08</td>\n",
       "      <td>700.008</td>\n",
       "    </tr>\n",
       "    <tr>\n",
       "      <th>3</th>\n",
       "      <td>20</td>\n",
       "      <td>104</td>\n",
       "      <td>Vishal</td>\n",
       "      <td>Bayaskar</td>\n",
       "      <td>8000.00</td>\n",
       "      <td>1600.000</td>\n",
       "    </tr>\n",
       "    <tr>\n",
       "      <th>4</th>\n",
       "      <td>30</td>\n",
       "      <td>105</td>\n",
       "      <td>Anurag</td>\n",
       "      <td>Goel</td>\n",
       "      <td>9000.00</td>\n",
       "      <td>1800.000</td>\n",
       "    </tr>\n",
       "  </tbody>\n",
       "</table>\n",
       "</div>"
      ],
      "text/plain": [
       "   DID  EMPID       FN          LN       SL       TAX\n",
       "0   10    101  Abhinav  Srivastava  5000.00   500.000\n",
       "1   10    102  Vaibhav       Bajaj  6000.00   600.000\n",
       "2   20    103      Jay        Soni  7000.08   700.008\n",
       "3   20    104   Vishal    Bayaskar  8000.00  1600.000\n",
       "4   30    105   Anurag        Goel  9000.00  1800.000"
      ]
     },
     "execution_count": 32,
     "metadata": {},
     "output_type": "execute_result"
    }
   ],
   "source": [
    "A"
   ]
  },
  {
   "cell_type": "code",
   "execution_count": 2,
   "metadata": {},
   "outputs": [
    {
     "ename": "NameError",
     "evalue": "name 'A' is not defined",
     "output_type": "error",
     "traceback": [
      "\u001b[1;31m---------------------------------------------------------------------------\u001b[0m",
      "\u001b[1;31mNameError\u001b[0m                                 Traceback (most recent call last)",
      "\u001b[1;32m<ipython-input-2-26fe0a1ae4d4>\u001b[0m in \u001b[0;36m<module>\u001b[1;34m()\u001b[0m\n\u001b[1;32m----> 1\u001b[1;33m \u001b[0mA\u001b[0m\u001b[1;33m.\u001b[0m\u001b[0mcolumns\u001b[0m\u001b[1;33m\u001b[0m\u001b[0m\n\u001b[0m",
      "\u001b[1;31mNameError\u001b[0m: name 'A' is not defined"
     ]
    }
   ],
   "source": [
    "A.columns"
   ]
  },
  {
   "cell_type": "code",
   "execution_count": 34,
   "metadata": {},
   "outputs": [
    {
     "name": "stdout",
     "output_type": "stream",
     "text": [
      "<class 'pandas.core.frame.DataFrame'>\n",
      "RangeIndex: 5 entries, 0 to 4\n",
      "Data columns (total 6 columns):\n",
      "DID      5 non-null int64\n",
      "EMPID    5 non-null int64\n",
      "FN       5 non-null object\n",
      "LN       5 non-null object\n",
      "SL       5 non-null float64\n",
      "TAX      5 non-null float64\n",
      "dtypes: float64(2), int64(2), object(2)\n",
      "memory usage: 320.0+ bytes\n"
     ]
    }
   ],
   "source": [
    "A.info()"
   ]
  },
  {
   "cell_type": "code",
   "execution_count": 35,
   "metadata": {},
   "outputs": [],
   "source": [
    "tax=[1,2,3,4,5]"
   ]
  },
  {
   "cell_type": "code",
   "execution_count": 36,
   "metadata": {},
   "outputs": [],
   "source": [
    "A[\"NEW\"]=tax"
   ]
  },
  {
   "cell_type": "code",
   "execution_count": 37,
   "metadata": {},
   "outputs": [
    {
     "data": {
      "text/html": [
       "<div>\n",
       "<style scoped>\n",
       "    .dataframe tbody tr th:only-of-type {\n",
       "        vertical-align: middle;\n",
       "    }\n",
       "\n",
       "    .dataframe tbody tr th {\n",
       "        vertical-align: top;\n",
       "    }\n",
       "\n",
       "    .dataframe thead th {\n",
       "        text-align: right;\n",
       "    }\n",
       "</style>\n",
       "<table border=\"1\" class=\"dataframe\">\n",
       "  <thead>\n",
       "    <tr style=\"text-align: right;\">\n",
       "      <th></th>\n",
       "      <th>DID</th>\n",
       "      <th>EMPID</th>\n",
       "      <th>FN</th>\n",
       "      <th>LN</th>\n",
       "      <th>SL</th>\n",
       "      <th>TAX</th>\n",
       "      <th>NEW</th>\n",
       "    </tr>\n",
       "  </thead>\n",
       "  <tbody>\n",
       "    <tr>\n",
       "      <th>0</th>\n",
       "      <td>10</td>\n",
       "      <td>101</td>\n",
       "      <td>Abhinav</td>\n",
       "      <td>Srivastava</td>\n",
       "      <td>5000.00</td>\n",
       "      <td>500.000</td>\n",
       "      <td>1</td>\n",
       "    </tr>\n",
       "    <tr>\n",
       "      <th>1</th>\n",
       "      <td>10</td>\n",
       "      <td>102</td>\n",
       "      <td>Vaibhav</td>\n",
       "      <td>Bajaj</td>\n",
       "      <td>6000.00</td>\n",
       "      <td>600.000</td>\n",
       "      <td>2</td>\n",
       "    </tr>\n",
       "    <tr>\n",
       "      <th>2</th>\n",
       "      <td>20</td>\n",
       "      <td>103</td>\n",
       "      <td>Jay</td>\n",
       "      <td>Soni</td>\n",
       "      <td>7000.08</td>\n",
       "      <td>700.008</td>\n",
       "      <td>3</td>\n",
       "    </tr>\n",
       "    <tr>\n",
       "      <th>3</th>\n",
       "      <td>20</td>\n",
       "      <td>104</td>\n",
       "      <td>Vishal</td>\n",
       "      <td>Bayaskar</td>\n",
       "      <td>8000.00</td>\n",
       "      <td>1600.000</td>\n",
       "      <td>4</td>\n",
       "    </tr>\n",
       "    <tr>\n",
       "      <th>4</th>\n",
       "      <td>30</td>\n",
       "      <td>105</td>\n",
       "      <td>Anurag</td>\n",
       "      <td>Goel</td>\n",
       "      <td>9000.00</td>\n",
       "      <td>1800.000</td>\n",
       "      <td>5</td>\n",
       "    </tr>\n",
       "  </tbody>\n",
       "</table>\n",
       "</div>"
      ],
      "text/plain": [
       "   DID  EMPID       FN          LN       SL       TAX  NEW\n",
       "0   10    101  Abhinav  Srivastava  5000.00   500.000    1\n",
       "1   10    102  Vaibhav       Bajaj  6000.00   600.000    2\n",
       "2   20    103      Jay        Soni  7000.08   700.008    3\n",
       "3   20    104   Vishal    Bayaskar  8000.00  1600.000    4\n",
       "4   30    105   Anurag        Goel  9000.00  1800.000    5"
      ]
     },
     "execution_count": 37,
     "metadata": {},
     "output_type": "execute_result"
    }
   ],
   "source": [
    "A"
   ]
  },
  {
   "cell_type": "code",
   "execution_count": 39,
   "metadata": {},
   "outputs": [
    {
     "data": {
      "text/plain": [
       "0    10\n",
       "1    10\n",
       "2    20\n",
       "3    20\n",
       "4    30\n",
       "Name: DID, dtype: int64"
      ]
     },
     "execution_count": 39,
     "metadata": {},
     "output_type": "execute_result"
    }
   ],
   "source": [
    "A.DID"
   ]
  },
  {
   "cell_type": "code",
   "execution_count": 40,
   "metadata": {},
   "outputs": [
    {
     "data": {
      "text/html": [
       "<div>\n",
       "<style scoped>\n",
       "    .dataframe tbody tr th:only-of-type {\n",
       "        vertical-align: middle;\n",
       "    }\n",
       "\n",
       "    .dataframe tbody tr th {\n",
       "        vertical-align: top;\n",
       "    }\n",
       "\n",
       "    .dataframe thead th {\n",
       "        text-align: right;\n",
       "    }\n",
       "</style>\n",
       "<table border=\"1\" class=\"dataframe\">\n",
       "  <thead>\n",
       "    <tr style=\"text-align: right;\">\n",
       "      <th></th>\n",
       "      <th>DID</th>\n",
       "      <th>EMPID</th>\n",
       "      <th>FN</th>\n",
       "      <th>LN</th>\n",
       "      <th>SL</th>\n",
       "      <th>TAX</th>\n",
       "      <th>NEW</th>\n",
       "    </tr>\n",
       "  </thead>\n",
       "  <tbody>\n",
       "    <tr>\n",
       "      <th>0</th>\n",
       "      <td>10</td>\n",
       "      <td>101</td>\n",
       "      <td>Abhinav</td>\n",
       "      <td>Srivastava</td>\n",
       "      <td>5000.00</td>\n",
       "      <td>500.000</td>\n",
       "      <td>1</td>\n",
       "    </tr>\n",
       "    <tr>\n",
       "      <th>1</th>\n",
       "      <td>10</td>\n",
       "      <td>102</td>\n",
       "      <td>Vaibhav</td>\n",
       "      <td>Bajaj</td>\n",
       "      <td>6000.00</td>\n",
       "      <td>600.000</td>\n",
       "      <td>2</td>\n",
       "    </tr>\n",
       "    <tr>\n",
       "      <th>2</th>\n",
       "      <td>20</td>\n",
       "      <td>103</td>\n",
       "      <td>Jay</td>\n",
       "      <td>Soni</td>\n",
       "      <td>7000.08</td>\n",
       "      <td>700.008</td>\n",
       "      <td>3</td>\n",
       "    </tr>\n",
       "    <tr>\n",
       "      <th>3</th>\n",
       "      <td>20</td>\n",
       "      <td>104</td>\n",
       "      <td>Vishal</td>\n",
       "      <td>Bayaskar</td>\n",
       "      <td>8000.00</td>\n",
       "      <td>1600.000</td>\n",
       "      <td>4</td>\n",
       "    </tr>\n",
       "    <tr>\n",
       "      <th>4</th>\n",
       "      <td>30</td>\n",
       "      <td>105</td>\n",
       "      <td>Anurag</td>\n",
       "      <td>Goel</td>\n",
       "      <td>9000.00</td>\n",
       "      <td>1800.000</td>\n",
       "      <td>5</td>\n",
       "    </tr>\n",
       "  </tbody>\n",
       "</table>\n",
       "</div>"
      ],
      "text/plain": [
       "   DID  EMPID       FN          LN       SL       TAX  NEW\n",
       "0   10    101  Abhinav  Srivastava  5000.00   500.000    1\n",
       "1   10    102  Vaibhav       Bajaj  6000.00   600.000    2\n",
       "2   20    103      Jay        Soni  7000.08   700.008    3\n",
       "3   20    104   Vishal    Bayaskar  8000.00  1600.000    4\n",
       "4   30    105   Anurag        Goel  9000.00  1800.000    5"
      ]
     },
     "execution_count": 40,
     "metadata": {},
     "output_type": "execute_result"
    }
   ],
   "source": [
    "A"
   ]
  },
  {
   "cell_type": "code",
   "execution_count": 42,
   "metadata": {},
   "outputs": [
    {
     "data": {
      "text/html": [
       "<div>\n",
       "<style scoped>\n",
       "    .dataframe tbody tr th:only-of-type {\n",
       "        vertical-align: middle;\n",
       "    }\n",
       "\n",
       "    .dataframe tbody tr th {\n",
       "        vertical-align: top;\n",
       "    }\n",
       "\n",
       "    .dataframe thead th {\n",
       "        text-align: right;\n",
       "    }\n",
       "</style>\n",
       "<table border=\"1\" class=\"dataframe\">\n",
       "  <thead>\n",
       "    <tr style=\"text-align: right;\">\n",
       "      <th></th>\n",
       "      <th>DID</th>\n",
       "      <th>EMPID</th>\n",
       "      <th>FN</th>\n",
       "      <th>LN</th>\n",
       "      <th>SL</th>\n",
       "      <th>TAX</th>\n",
       "    </tr>\n",
       "  </thead>\n",
       "  <tbody>\n",
       "    <tr>\n",
       "      <th>0</th>\n",
       "      <td>10</td>\n",
       "      <td>101</td>\n",
       "      <td>Abhinav</td>\n",
       "      <td>Srivastava</td>\n",
       "      <td>5000.00</td>\n",
       "      <td>500.000</td>\n",
       "    </tr>\n",
       "    <tr>\n",
       "      <th>1</th>\n",
       "      <td>10</td>\n",
       "      <td>102</td>\n",
       "      <td>Vaibhav</td>\n",
       "      <td>Bajaj</td>\n",
       "      <td>6000.00</td>\n",
       "      <td>600.000</td>\n",
       "    </tr>\n",
       "    <tr>\n",
       "      <th>2</th>\n",
       "      <td>20</td>\n",
       "      <td>103</td>\n",
       "      <td>Jay</td>\n",
       "      <td>Soni</td>\n",
       "      <td>7000.08</td>\n",
       "      <td>700.008</td>\n",
       "    </tr>\n",
       "    <tr>\n",
       "      <th>3</th>\n",
       "      <td>20</td>\n",
       "      <td>104</td>\n",
       "      <td>Vishal</td>\n",
       "      <td>Bayaskar</td>\n",
       "      <td>8000.00</td>\n",
       "      <td>1600.000</td>\n",
       "    </tr>\n",
       "    <tr>\n",
       "      <th>4</th>\n",
       "      <td>30</td>\n",
       "      <td>105</td>\n",
       "      <td>Anurag</td>\n",
       "      <td>Goel</td>\n",
       "      <td>9000.00</td>\n",
       "      <td>1800.000</td>\n",
       "    </tr>\n",
       "  </tbody>\n",
       "</table>\n",
       "</div>"
      ],
      "text/plain": [
       "   DID  EMPID       FN          LN       SL       TAX\n",
       "0   10    101  Abhinav  Srivastava  5000.00   500.000\n",
       "1   10    102  Vaibhav       Bajaj  6000.00   600.000\n",
       "2   20    103      Jay        Soni  7000.08   700.008\n",
       "3   20    104   Vishal    Bayaskar  8000.00  1600.000\n",
       "4   30    105   Anurag        Goel  9000.00  1800.000"
      ]
     },
     "execution_count": 42,
     "metadata": {},
     "output_type": "execute_result"
    }
   ],
   "source": [
    "A.drop(labels=\"NEW\",axis=1)"
   ]
  },
  {
   "cell_type": "code",
   "execution_count": 43,
   "metadata": {},
   "outputs": [],
   "source": [
    "City=[\"Pune\",\"Mumbai\",\"Nagpur\",\"Delhi\",\"Kolkata\"]"
   ]
  },
  {
   "cell_type": "code",
   "execution_count": 44,
   "metadata": {},
   "outputs": [],
   "source": [
    "A[\"CITY\"]=City"
   ]
  },
  {
   "cell_type": "code",
   "execution_count": 45,
   "metadata": {},
   "outputs": [
    {
     "data": {
      "text/html": [
       "<div>\n",
       "<style scoped>\n",
       "    .dataframe tbody tr th:only-of-type {\n",
       "        vertical-align: middle;\n",
       "    }\n",
       "\n",
       "    .dataframe tbody tr th {\n",
       "        vertical-align: top;\n",
       "    }\n",
       "\n",
       "    .dataframe thead th {\n",
       "        text-align: right;\n",
       "    }\n",
       "</style>\n",
       "<table border=\"1\" class=\"dataframe\">\n",
       "  <thead>\n",
       "    <tr style=\"text-align: right;\">\n",
       "      <th></th>\n",
       "      <th>DID</th>\n",
       "      <th>EMPID</th>\n",
       "      <th>FN</th>\n",
       "      <th>LN</th>\n",
       "      <th>SL</th>\n",
       "      <th>TAX</th>\n",
       "      <th>NEW</th>\n",
       "      <th>CITY</th>\n",
       "    </tr>\n",
       "  </thead>\n",
       "  <tbody>\n",
       "    <tr>\n",
       "      <th>0</th>\n",
       "      <td>10</td>\n",
       "      <td>101</td>\n",
       "      <td>Abhinav</td>\n",
       "      <td>Srivastava</td>\n",
       "      <td>5000.00</td>\n",
       "      <td>500.000</td>\n",
       "      <td>1</td>\n",
       "      <td>Pune</td>\n",
       "    </tr>\n",
       "    <tr>\n",
       "      <th>1</th>\n",
       "      <td>10</td>\n",
       "      <td>102</td>\n",
       "      <td>Vaibhav</td>\n",
       "      <td>Bajaj</td>\n",
       "      <td>6000.00</td>\n",
       "      <td>600.000</td>\n",
       "      <td>2</td>\n",
       "      <td>Mumbai</td>\n",
       "    </tr>\n",
       "    <tr>\n",
       "      <th>2</th>\n",
       "      <td>20</td>\n",
       "      <td>103</td>\n",
       "      <td>Jay</td>\n",
       "      <td>Soni</td>\n",
       "      <td>7000.08</td>\n",
       "      <td>700.008</td>\n",
       "      <td>3</td>\n",
       "      <td>Nagpur</td>\n",
       "    </tr>\n",
       "    <tr>\n",
       "      <th>3</th>\n",
       "      <td>20</td>\n",
       "      <td>104</td>\n",
       "      <td>Vishal</td>\n",
       "      <td>Bayaskar</td>\n",
       "      <td>8000.00</td>\n",
       "      <td>1600.000</td>\n",
       "      <td>4</td>\n",
       "      <td>Delhi</td>\n",
       "    </tr>\n",
       "    <tr>\n",
       "      <th>4</th>\n",
       "      <td>30</td>\n",
       "      <td>105</td>\n",
       "      <td>Anurag</td>\n",
       "      <td>Goel</td>\n",
       "      <td>9000.00</td>\n",
       "      <td>1800.000</td>\n",
       "      <td>5</td>\n",
       "      <td>Kolkata</td>\n",
       "    </tr>\n",
       "  </tbody>\n",
       "</table>\n",
       "</div>"
      ],
      "text/plain": [
       "   DID  EMPID       FN          LN       SL       TAX  NEW     CITY\n",
       "0   10    101  Abhinav  Srivastava  5000.00   500.000    1     Pune\n",
       "1   10    102  Vaibhav       Bajaj  6000.00   600.000    2   Mumbai\n",
       "2   20    103      Jay        Soni  7000.08   700.008    3   Nagpur\n",
       "3   20    104   Vishal    Bayaskar  8000.00  1600.000    4    Delhi\n",
       "4   30    105   Anurag        Goel  9000.00  1800.000    5  Kolkata"
      ]
     },
     "execution_count": 45,
     "metadata": {},
     "output_type": "execute_result"
    }
   ],
   "source": [
    "A"
   ]
  },
  {
   "cell_type": "code",
   "execution_count": 46,
   "metadata": {},
   "outputs": [
    {
     "data": {
      "text/html": [
       "<div>\n",
       "<style scoped>\n",
       "    .dataframe tbody tr th:only-of-type {\n",
       "        vertical-align: middle;\n",
       "    }\n",
       "\n",
       "    .dataframe tbody tr th {\n",
       "        vertical-align: top;\n",
       "    }\n",
       "\n",
       "    .dataframe thead th {\n",
       "        text-align: right;\n",
       "    }\n",
       "</style>\n",
       "<table border=\"1\" class=\"dataframe\">\n",
       "  <thead>\n",
       "    <tr style=\"text-align: right;\">\n",
       "      <th></th>\n",
       "      <th>DID</th>\n",
       "      <th>EMPID</th>\n",
       "      <th>FN</th>\n",
       "      <th>LN</th>\n",
       "      <th>SL</th>\n",
       "      <th>TAX</th>\n",
       "      <th>NEW</th>\n",
       "    </tr>\n",
       "  </thead>\n",
       "  <tbody>\n",
       "    <tr>\n",
       "      <th>0</th>\n",
       "      <td>10</td>\n",
       "      <td>101</td>\n",
       "      <td>Abhinav</td>\n",
       "      <td>Srivastava</td>\n",
       "      <td>5000.00</td>\n",
       "      <td>500.000</td>\n",
       "      <td>1</td>\n",
       "    </tr>\n",
       "    <tr>\n",
       "      <th>1</th>\n",
       "      <td>10</td>\n",
       "      <td>102</td>\n",
       "      <td>Vaibhav</td>\n",
       "      <td>Bajaj</td>\n",
       "      <td>6000.00</td>\n",
       "      <td>600.000</td>\n",
       "      <td>2</td>\n",
       "    </tr>\n",
       "    <tr>\n",
       "      <th>2</th>\n",
       "      <td>20</td>\n",
       "      <td>103</td>\n",
       "      <td>Jay</td>\n",
       "      <td>Soni</td>\n",
       "      <td>7000.08</td>\n",
       "      <td>700.008</td>\n",
       "      <td>3</td>\n",
       "    </tr>\n",
       "    <tr>\n",
       "      <th>3</th>\n",
       "      <td>20</td>\n",
       "      <td>104</td>\n",
       "      <td>Vishal</td>\n",
       "      <td>Bayaskar</td>\n",
       "      <td>8000.00</td>\n",
       "      <td>1600.000</td>\n",
       "      <td>4</td>\n",
       "    </tr>\n",
       "    <tr>\n",
       "      <th>4</th>\n",
       "      <td>30</td>\n",
       "      <td>105</td>\n",
       "      <td>Anurag</td>\n",
       "      <td>Goel</td>\n",
       "      <td>9000.00</td>\n",
       "      <td>1800.000</td>\n",
       "      <td>5</td>\n",
       "    </tr>\n",
       "  </tbody>\n",
       "</table>\n",
       "</div>"
      ],
      "text/plain": [
       "   DID  EMPID       FN          LN       SL       TAX  NEW\n",
       "0   10    101  Abhinav  Srivastava  5000.00   500.000    1\n",
       "1   10    102  Vaibhav       Bajaj  6000.00   600.000    2\n",
       "2   20    103      Jay        Soni  7000.08   700.008    3\n",
       "3   20    104   Vishal    Bayaskar  8000.00  1600.000    4\n",
       "4   30    105   Anurag        Goel  9000.00  1800.000    5"
      ]
     },
     "execution_count": 46,
     "metadata": {},
     "output_type": "execute_result"
    }
   ],
   "source": [
    "A.drop(axis=1,labels=\"CITY\")"
   ]
  },
  {
   "cell_type": "code",
   "execution_count": 48,
   "metadata": {},
   "outputs": [
    {
     "data": {
      "text/html": [
       "<div>\n",
       "<style scoped>\n",
       "    .dataframe tbody tr th:only-of-type {\n",
       "        vertical-align: middle;\n",
       "    }\n",
       "\n",
       "    .dataframe tbody tr th {\n",
       "        vertical-align: top;\n",
       "    }\n",
       "\n",
       "    .dataframe thead th {\n",
       "        text-align: right;\n",
       "    }\n",
       "</style>\n",
       "<table border=\"1\" class=\"dataframe\">\n",
       "  <thead>\n",
       "    <tr style=\"text-align: right;\">\n",
       "      <th></th>\n",
       "      <th>DID</th>\n",
       "      <th>EMPID</th>\n",
       "      <th>FN</th>\n",
       "      <th>LN</th>\n",
       "      <th>SL</th>\n",
       "      <th>TAX</th>\n",
       "      <th>NEW</th>\n",
       "      <th>CITY</th>\n",
       "    </tr>\n",
       "  </thead>\n",
       "  <tbody>\n",
       "    <tr>\n",
       "      <th>0</th>\n",
       "      <td>10</td>\n",
       "      <td>101</td>\n",
       "      <td>Abhinav</td>\n",
       "      <td>Srivastava</td>\n",
       "      <td>5000.00</td>\n",
       "      <td>500.000</td>\n",
       "      <td>1</td>\n",
       "      <td>Pune</td>\n",
       "    </tr>\n",
       "    <tr>\n",
       "      <th>1</th>\n",
       "      <td>10</td>\n",
       "      <td>102</td>\n",
       "      <td>Vaibhav</td>\n",
       "      <td>Bajaj</td>\n",
       "      <td>6000.00</td>\n",
       "      <td>600.000</td>\n",
       "      <td>2</td>\n",
       "      <td>Mumbai</td>\n",
       "    </tr>\n",
       "    <tr>\n",
       "      <th>2</th>\n",
       "      <td>20</td>\n",
       "      <td>103</td>\n",
       "      <td>Jay</td>\n",
       "      <td>Soni</td>\n",
       "      <td>7000.08</td>\n",
       "      <td>700.008</td>\n",
       "      <td>3</td>\n",
       "      <td>Nagpur</td>\n",
       "    </tr>\n",
       "    <tr>\n",
       "      <th>3</th>\n",
       "      <td>20</td>\n",
       "      <td>104</td>\n",
       "      <td>Vishal</td>\n",
       "      <td>Bayaskar</td>\n",
       "      <td>8000.00</td>\n",
       "      <td>1600.000</td>\n",
       "      <td>4</td>\n",
       "      <td>Delhi</td>\n",
       "    </tr>\n",
       "    <tr>\n",
       "      <th>4</th>\n",
       "      <td>30</td>\n",
       "      <td>105</td>\n",
       "      <td>Anurag</td>\n",
       "      <td>Goel</td>\n",
       "      <td>9000.00</td>\n",
       "      <td>1800.000</td>\n",
       "      <td>5</td>\n",
       "      <td>Kolkata</td>\n",
       "    </tr>\n",
       "  </tbody>\n",
       "</table>\n",
       "</div>"
      ],
      "text/plain": [
       "   DID  EMPID       FN          LN       SL       TAX  NEW     CITY\n",
       "0   10    101  Abhinav  Srivastava  5000.00   500.000    1     Pune\n",
       "1   10    102  Vaibhav       Bajaj  6000.00   600.000    2   Mumbai\n",
       "2   20    103      Jay        Soni  7000.08   700.008    3   Nagpur\n",
       "3   20    104   Vishal    Bayaskar  8000.00  1600.000    4    Delhi\n",
       "4   30    105   Anurag        Goel  9000.00  1800.000    5  Kolkata"
      ]
     },
     "execution_count": 48,
     "metadata": {},
     "output_type": "execute_result"
    }
   ],
   "source": [
    "A"
   ]
  },
  {
   "cell_type": "code",
   "execution_count": 1,
   "metadata": {},
   "outputs": [],
   "source": [
    "Z=[1,2,3,4,5]\n"
   ]
  },
  {
   "cell_type": "code",
   "execution_count": 2,
   "metadata": {},
   "outputs": [],
   "source": [
    "F={}"
   ]
  },
  {
   "cell_type": "code",
   "execution_count": 4,
   "metadata": {},
   "outputs": [
    {
     "data": {
      "text/plain": [
       "[1, 1, 3, 4, 5]"
      ]
     },
     "execution_count": 4,
     "metadata": {},
     "output_type": "execute_result"
    }
   ],
   "source": [
    "Z"
   ]
  },
  {
   "cell_type": "code",
   "execution_count": 5,
   "metadata": {},
   "outputs": [],
   "source": [
    "Z=[1,2,3,4,5]\n",
    "for i in Z:\n",
    "    i=i**2\n",
    "    "
   ]
  },
  {
   "cell_type": "code",
   "execution_count": 6,
   "metadata": {},
   "outputs": [
    {
     "data": {
      "text/plain": [
       "[1, 2, 3, 4, 5]"
      ]
     },
     "execution_count": 6,
     "metadata": {},
     "output_type": "execute_result"
    }
   ],
   "source": [
    "Z"
   ]
  },
  {
   "cell_type": "code",
   "execution_count": 7,
   "metadata": {},
   "outputs": [],
   "source": [
    "Z=[1,2,3,4,5]\n",
    "for i in Z:\n",
    "    i=i**2\n",
    "    i=Z\n",
    "    "
   ]
  },
  {
   "cell_type": "code",
   "execution_count": 8,
   "metadata": {},
   "outputs": [
    {
     "data": {
      "text/plain": [
       "[1, 2, 3, 4, 5]"
      ]
     },
     "execution_count": 8,
     "metadata": {},
     "output_type": "execute_result"
    }
   ],
   "source": [
    "Z"
   ]
  },
  {
   "cell_type": "code",
   "execution_count": null,
   "metadata": {},
   "outputs": [],
   "source": []
  }
 ],
 "metadata": {
  "kernelspec": {
   "display_name": "Python 3",
   "language": "python",
   "name": "python3"
  },
  "language_info": {
   "codemirror_mode": {
    "name": "ipython",
    "version": 3
   },
   "file_extension": ".py",
   "mimetype": "text/x-python",
   "name": "python",
   "nbconvert_exporter": "python",
   "pygments_lexer": "ipython3",
   "version": "3.6.4"
  }
 },
 "nbformat": 4,
 "nbformat_minor": 2
}
