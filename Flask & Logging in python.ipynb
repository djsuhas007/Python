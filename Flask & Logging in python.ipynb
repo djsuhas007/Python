{
 "cells": [
  {
   "cell_type": "code",
   "execution_count": null,
   "metadata": {},
   "outputs": [],
   "source": [
    "# it has created a app.log file at the current directory of Python\n",
    "try:\n",
    "    result=10/0\n",
    "    print(\"Result is \",result)\n",
    "    \n",
    "except Exception as e:\n",
    "    print(\"Exception occured \",e)"
   ]
  },
  {
   "cell_type": "code",
   "execution_count": null,
   "metadata": {},
   "outputs": [],
   "source": [
    "import logging\n",
    "#create file name with app.log\n",
    "logging.basicConfig(filename=\"app.log\",filemode='w',level=logging.DEBUG)\n",
    "logger=logging.getLogger()\n",
    "logger.setLevel(logging.DEBUG)"
   ]
  },
  {
   "cell_type": "code",
   "execution_count": null,
   "metadata": {},
   "outputs": [],
   "source": [
    "logger.error(\"ERROR OCCURED\")"
   ]
  },
  {
   "cell_type": "code",
   "execution_count": null,
   "metadata": {},
   "outputs": [],
   "source": [
    "logger.info(\"Info Message\")"
   ]
  },
  {
   "cell_type": "markdown",
   "metadata": {},
   "source": [
    "# Example 2 with WARN"
   ]
  },
  {
   "cell_type": "code",
   "execution_count": null,
   "metadata": {},
   "outputs": [],
   "source": [
    "import logging\n",
    "#create file name with app.log at the current directory i.e. home of jupiter notebooks directory\n",
    "logging.basicConfig(filename=\"myapp.log\",filemode='w',level=logging.WARN)\n",
    "logger=logging.getLogger()\n",
    "logger.setLevel(logging.WARN)"
   ]
  },
  {
   "cell_type": "code",
   "execution_count": null,
   "metadata": {},
   "outputs": [],
   "source": [
    "logger.info(\"Info Message\")"
   ]
  },
  {
   "cell_type": "code",
   "execution_count": null,
   "metadata": {},
   "outputs": [],
   "source": [
    "logger.error(\"ERROR OCCURED\")"
   ]
  },
  {
   "cell_type": "code",
   "execution_count": null,
   "metadata": {},
   "outputs": [],
   "source": [
    "# if working on developer machine - DEBUG\n",
    "# If working on production - WARN / INFO\n"
   ]
  },
  {
   "cell_type": "code",
   "execution_count": null,
   "metadata": {},
   "outputs": [],
   "source": [
    "# Logging stores every activity of user\n",
    "# Info # Warnings"
   ]
  },
  {
   "cell_type": "markdown",
   "metadata": {},
   "source": [
    "# Example 3 with timestamp"
   ]
  },
  {
   "cell_type": "code",
   "execution_count": null,
   "metadata": {},
   "outputs": [],
   "source": [
    "import logging\n",
    "#create file name with app.log at the current directory i.e. home of jupiter notebooks directory\n",
    "logging.basicConfig(filename=\"mylogfile.log\",filemode='w',level=logging.DEBUG,format='%(levelname)s:%(asctime)s:%(message)s:%(name)s')\n",
    "logger=logging.getLogger()\n",
    "logger.setLevel(logging.DEBUG)"
   ]
  },
  {
   "cell_type": "code",
   "execution_count": null,
   "metadata": {},
   "outputs": [],
   "source": [
    "logger.info(\"Info Message\")"
   ]
  },
  {
   "cell_type": "code",
   "execution_count": null,
   "metadata": {},
   "outputs": [],
   "source": [
    "logger.error(\"ERROR OCCURED\")"
   ]
  },
  {
   "cell_type": "code",
   "execution_count": null,
   "metadata": {},
   "outputs": [],
   "source": [
    "logger.critical(\"critical message\")"
   ]
  },
  {
   "cell_type": "code",
   "execution_count": null,
   "metadata": {},
   "outputs": [],
   "source": [
    "try:\n",
    "    result=10/0\n",
    "    logger.info(\"Result is \",result)\n",
    "    \n",
    "except Exception as e:\n",
    "    logger.error(\"Exception occured %s\"%(e))"
   ]
  },
  {
   "cell_type": "markdown",
   "metadata": {},
   "source": [
    "# FLASK"
   ]
  },
  {
   "cell_type": "code",
   "execution_count": null,
   "metadata": {},
   "outputs": [],
   "source": [
    "#web framework, static & dynamic website, software development\n",
    "#static - only shows info\n",
    "#dynamic - we can process something e.g. Amazon, Flipkart etc who saves our info & we do changes on those sites\n",
    "#easy to implement & write\n",
    "#small & middle scale website production\n",
    "# pip install flask\n",
    "#for Jupyter, !pip install flask\n",
    "#works on port 5000, localhost\n",
    "#ip address of localhost - 127.0.0.1\n",
    "# web servers - Apache2, Nginx etc\n",
    "#Django - compretitor of Flask"
   ]
  },
  {
   "cell_type": "code",
   "execution_count": null,
   "metadata": {},
   "outputs": [],
   "source": [
    "from flask import Flask\n",
    "app=Flask(__name__)\n",
    "@app.route('/')\n",
    "def index():\n",
    "    return \"Hi there! This is my 1st Flask app!!!\"\n",
    "\n",
    "if __name__ == \"__main__\":\n",
    "    app.run()\n",
    "    \n",
    "# go to localhost:5000 after running this program; it will display this message"
   ]
  },
  {
   "cell_type": "code",
   "execution_count": null,
   "metadata": {},
   "outputs": [],
   "source": [
    "# ! pip install --upgrade flask\n",
    "#above command is used to upgrade any package for latest version"
   ]
  },
  {
   "cell_type": "code",
   "execution_count": null,
   "metadata": {},
   "outputs": [],
   "source": [
    "__name__\n",
    "\n"
   ]
  },
  {
   "cell_type": "code",
   "execution_count": null,
   "metadata": {},
   "outputs": [],
   "source": [
    "'''\n",
    "#domain - it have IP address\n",
    "|\n",
    "# linux server -- IP Address - 112,244,33,22 etc\n",
    "|\n",
    "#Nginx - works on local  host - 80 http ot 443 https\n",
    "|\n",
    "#FLASK\n",
    "\n",
    "\n",
    "\n",
    "\n",
    "'''\n",
    "\n",
    "\n"
   ]
  },
  {
   "cell_type": "code",
   "execution_count": null,
   "metadata": {},
   "outputs": [],
   "source": [
    "from flask import Flask\n",
    "app=Flask(__name__)\n",
    "@app.route('/')\n",
    "def index():\n",
    "    return \"Hi there! This is my 1st Flask app!!!\"\n",
    "\n",
    "@app.route('/about')\n",
    "def about():\n",
    "    return \"I am a software developer!!!\"\n",
    "\n",
    "if __name__ == \"__main__\":\n",
    "    app.run()\n",
    "    \n",
    "  # go to \"localhost:5000/about\" after running this program; it will display this message"
   ]
  },
  {
   "cell_type": "code",
   "execution_count": null,
   "metadata": {},
   "outputs": [],
   "source": []
  }
 ],
 "metadata": {
  "kernelspec": {
   "display_name": "Python 3",
   "language": "python",
   "name": "python3"
  },
  "language_info": {
   "codemirror_mode": {
    "name": "ipython",
    "version": 3
   },
   "file_extension": ".py",
   "mimetype": "text/x-python",
   "name": "python",
   "nbconvert_exporter": "python",
   "pygments_lexer": "ipython3",
   "version": "3.6.4"
  }
 },
 "nbformat": 4,
 "nbformat_minor": 2
}
