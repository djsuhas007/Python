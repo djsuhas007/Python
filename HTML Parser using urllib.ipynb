{
 "cells": [
  {
   "cell_type": "code",
   "execution_count": 2,
   "metadata": {},
   "outputs": [
    {
     "name": "stdout",
     "output_type": "stream",
     "text": [
      "Position: 18\n",
      "Times: 7\n",
      "Enter URL: http://py4e-data.dr-chuck.net/known_by_Foosiya.html\n",
      "Jingyi\n"
     ]
    }
   ],
   "source": [
    "import urllib.error, urllib.request, urllib.parse\n",
    "from bs4 import BeautifulSoup\n",
    "a = int(input(\"Position: \"))-1\n",
    "b = int(input(\"Times: \"))\n",
    "url = input(\"Enter URL: \")\n",
    "for c in range(b):\n",
    "    x = urllib.request.urlopen(url).read()\n",
    "y = BeautifulSoup(x,'html.parser')\n",
    "z = y('a')\n",
    "d = z[a].get('href',None)\n",
    "url = d\n",
    "e = z[a].contents[0]\n",
    "print(e)\n"
   ]
  },
  {
   "cell_type": "code",
   "execution_count": 3,
   "metadata": {},
   "outputs": [
    {
     "name": "stdout",
     "output_type": "stream",
     "text": [
      "Position: 18\n",
      "Times: 7\n",
      "Enter URL: http://py4e-data.dr-chuck.net/known_by_Foosiya.html\n",
      "Jingyi\n"
     ]
    }
   ],
   "source": [
    "import urllib.error, urllib.request, urllib.parse\n",
    "from bs4 import BeautifulSoup\n",
    "a = int(input(\"Position: \"))-1\n",
    "b = int(input(\"Times: \"))\n",
    "url = input(\"Enter URL: \")\n",
    "for c in range(b):\n",
    "    x = urllib.request.urlopen(url).read()\n",
    "y = BeautifulSoup(x,'html.parser')\n",
    "z = y('a')\n",
    "d = z[a].get('href',None)\n",
    "url = d\n",
    "e = z[a].contents[0]\n",
    "\n",
    "\n",
    "print(e)\n"
   ]
  },
  {
   "cell_type": "code",
   "execution_count": 5,
   "metadata": {},
   "outputs": [
    {
     "name": "stdout",
     "output_type": "stream",
     "text": [
      "Position: 18\n",
      "Times: 7\n",
      "Enter URL: http://py4e-data.dr-chuck.net/known_by_Foosiya.html\n",
      "Allen\n"
     ]
    }
   ],
   "source": [
    "import urllib.error, urllib.request, urllib.parse\n",
    "from bs4 import BeautifulSoup\n",
    "\n",
    "pos = int(input(\"Position: \"))-1 #For The Position\n",
    "count = int(input(\"Times: \")) #For the Times\n",
    "url = input(\"Enter URL: \") #For The URL\n",
    "\n",
    "for i in range(count): #Desired times the loop should run\n",
    "    html = urllib.request.urlopen(url).read() #Taking html from the web address\n",
    "    soup = BeautifulSoup(html,'html.parser')\n",
    "    tags = soup('a') #Only taking tag from the html file\n",
    "    tag = tags[pos].get('href',None) #Only taking desired position string value from the tags list & only taking the url address\n",
    "    url = tag #Redefining the desired positioned url as the new url for running the loop for desired times\n",
    "    name = tags[pos].contents[0] #Taking only the content from the desired positioned string\n",
    "    #print(name) #Printing the name\n",
    "\n",
    "print(name)\n"
   ]
  },
  {
   "cell_type": "code",
   "execution_count": null,
   "metadata": {},
   "outputs": [],
   "source": []
  }
 ],
 "metadata": {
  "kernelspec": {
   "display_name": "Python 3",
   "language": "python",
   "name": "python3"
  },
  "language_info": {
   "codemirror_mode": {
    "name": "ipython",
    "version": 3
   },
   "file_extension": ".py",
   "mimetype": "text/x-python",
   "name": "python",
   "nbconvert_exporter": "python",
   "pygments_lexer": "ipython3",
   "version": "3.6.4"
  }
 },
 "nbformat": 4,
 "nbformat_minor": 2
}
