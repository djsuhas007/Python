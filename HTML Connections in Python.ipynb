{
 "cells": [
  {
   "cell_type": "code",
   "execution_count": null,
   "metadata": {},
   "outputs": [],
   "source": [
    "from flask import render_template\n",
    "from flask import Flask"
   ]
  },
  {
   "cell_type": "code",
   "execution_count": null,
   "metadata": {},
   "outputs": [],
   "source": [
    "app=Flask(__name__)\n",
    "@app.route(\"/\")\n",
    "def index():\n",
    "    return render_template(\"index.html\")\n",
    "\n",
    "if __name__ ==\"__main__\":\n",
    "    app.run(port=9099,debug=False)\n"
   ]
  },
  {
   "cell_type": "code",
   "execution_count": null,
   "metadata": {},
   "outputs": [],
   "source": [
    "# full code of above\n",
    "\n",
    "from flask import render_template\n",
    "from flask import Flask\n",
    "app=Flask(__name__)\n",
    "\n",
    "@app.route(\"/\")\n",
    "def index():\n",
    "    return render_template(\"home.html\",title=\"Index Page\")\n",
    "\n",
    "@app.route(\"/about\")\n",
    "def about():\n",
    "    return render_template(\"aboutme.html\",title=\"About me - Suhas Londhe\")\n",
    "\n",
    "if __name__ ==\"__main__\":\n",
    "    app.run(port=9099,debug=False)"
   ]
  },
  {
   "cell_type": "markdown",
   "metadata": {},
   "source": [
    "# WTForm"
   ]
  },
  {
   "cell_type": "code",
   "execution_count": null,
   "metadata": {},
   "outputs": [],
   "source": [
    "# to install WTForm, use below command\n",
    "!pip install Flask-WTF"
   ]
  },
  {
   "cell_type": "code",
   "execution_count": null,
   "metadata": {},
   "outputs": [],
   "source": [
    "# NEW\n",
    "\n",
    "from flask import render_template\n",
    "from flask import Flask\n",
    "from flask import request\n",
    "from flask_wtf import FlaskForm\n",
    "from wtforms import StringField\n",
    "\n",
    "\n",
    "\n",
    "app=Flask(__name__)\n",
    "app.config['SECRET_KEY']=\"thisismysecretkey\"\n",
    "\n",
    "class FeedbackForm(FlaskForm):\n",
    "    username=StringField(\"Full Name\")\n",
    "    email_id=StringField(\"Email ID\")\n",
    "    feedback=StringField(\"Feedback\")\n",
    "    \n",
    "\n",
    "@app.route(\"/\")\n",
    "def index():\n",
    "    return render_template(\"home.html\",title=\"Index Page\")\n",
    "\n",
    "@app.route(\"/about\")\n",
    "def about():\n",
    "    return render_template(\"aboutme.html\",title=\"About me - Suhas Londhe\")\n",
    "\n",
    "@app.route(\"/feedback\",methods=['GET','POST'])\n",
    "def feedback():\n",
    "    form=FeedbackForm()\n",
    "    if request.method=='POST':\n",
    "        import pdb\n",
    "        pdb.set_trace()\n",
    "        return \"Thanks for your feedback\"\n",
    "    return render_template(\"feedback.html\",title=\"Feedback\",form=form)\n",
    "\n",
    "if __name__ ==\"__main__\":\n",
    "    app.run(port=9099,debug=False)"
   ]
  },
  {
   "cell_type": "code",
   "execution_count": null,
   "metadata": {},
   "outputs": [],
   "source": []
  }
 ],
 "metadata": {
  "kernelspec": {
   "display_name": "Python 3",
   "language": "python",
   "name": "python3"
  },
  "language_info": {
   "codemirror_mode": {
    "name": "ipython",
    "version": 3
   },
   "file_extension": ".py",
   "mimetype": "text/x-python",
   "name": "python",
   "nbconvert_exporter": "python",
   "pygments_lexer": "ipython3",
   "version": "3.6.4"
  }
 },
 "nbformat": 4,
 "nbformat_minor": 2
}
