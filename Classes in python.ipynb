{
 "cells": [
  {
   "cell_type": "code",
   "execution_count": 1,
   "metadata": {},
   "outputs": [],
   "source": [
    "class bank:\n",
    "    def __init__(self,account_no):\n",
    "        self.account_no = account_no\n",
    "        \n",
    "    "
   ]
  },
  {
   "cell_type": "code",
   "execution_count": 2,
   "metadata": {},
   "outputs": [],
   "source": [
    "class dummy:\n",
    "    \n",
    "    a=10\n",
    "    def showdata(self):\n",
    "        print(\"The value of a is :\",self.a)\n",
    "        "
   ]
  },
  {
   "cell_type": "code",
   "execution_count": 4,
   "metadata": {},
   "outputs": [
    {
     "name": "stdout",
     "output_type": "stream",
     "text": [
      "The value of a is : 10\n"
     ]
    }
   ],
   "source": [
    "b=dummy()\n",
    "b.showdata()"
   ]
  },
  {
   "cell_type": "code",
   "execution_count": 5,
   "metadata": {},
   "outputs": [],
   "source": [
    "class EtlHive:\n",
    "   #name, course, is_weekday\n",
    "   STUDENT_DETAILS = list()\n",
    "   def __init__(self, name, course, is_weekday):\n",
    "       self.name = name\n",
    "       self.course = course\n",
    "       self.is_weekday = is_weekday\n",
    "       self.set_data()\n",
    "       \n",
    "   def set_data(self):\n",
    "       \"\"\"\n",
    "       Take current student data and store into dict()\n",
    "       \"\"\"\n",
    "       student = dict()\n",
    "       student['name'] = self.name\n",
    "       student['course'] = self.course\n",
    "       student['is_weekday'] = self.is_weekday\n",
    "       self.STUDENT_DETAILS.append(student)\n",
    "   \n",
    "   def show_my_data(self):\n",
    "       print(self.name, self.course, self.is_weekday)\n",
    "       \n",
    "   def show_all_student_data(self):\n",
    "       print(self.STUDENT_DETAILS)"
   ]
  },
  {
   "cell_type": "code",
   "execution_count": 6,
   "metadata": {},
   "outputs": [],
   "source": [
    "student1 = EtlHive('viraj', 'python', True)"
   ]
  },
  {
   "cell_type": "code",
   "execution_count": 7,
   "metadata": {},
   "outputs": [
    {
     "name": "stdout",
     "output_type": "stream",
     "text": [
      "[{'name': 'viraj', 'course': 'python', 'is_weekday': True}]\n"
     ]
    }
   ],
   "source": [
    "student1.show_all_student_data()\n"
   ]
  },
  {
   "cell_type": "code",
   "execution_count": 11,
   "metadata": {},
   "outputs": [],
   "source": [
    "\n",
    "class EtlHive:\n",
    "   #name, course, is_weekday\n",
    "   STUDENT_DETAILS = list()\n",
    "   VALID_COURSES = ['python', 'ds', 'hadoop', 'testing']\n",
    "   def __init__(self, name, course, is_weekday):\n",
    "       self.name = name\n",
    "       self.course = course\n",
    "       self.is_weekday = is_weekday\n",
    "       self.set_data()\n",
    "       \n",
    "   def is_valid_course(self):\n",
    "       pass\n",
    "       \n",
    "   def generate_student_id(self):\n",
    "       pass\n",
    "   \n",
    "   def is_valid_student(self):\n",
    "       pass\n",
    "   \n",
    "   def set_data(self):\n",
    "       \"\"\"\n",
    "       Take current student data and store into dict()\n",
    "       \"\"\"\n",
    "       student = dict()\n",
    "       student['name'] = self.name\n",
    "       student['course'] = self.course\n",
    "       student['is_weekday'] = self.is_weekday\n",
    "       self.STUDENT_DETAILS.append(student)\n",
    "   \n",
    "   def show_my_data(self):\n",
    "       print(self.name, self.course, self.is_weekday)\n",
    "       \n",
    "   def show_all_student_data(self):\n",
    "       print(self.STUDENT_DETAILS)"
   ]
  },
  {
   "cell_type": "code",
   "execution_count": 12,
   "metadata": {},
   "outputs": [],
   "source": [
    "import datetime\n",
    "\n",
    "class EtlHive:\n",
    "   #name, course, is_weekday\n",
    "   STUDENT_DETAILS = list()\n",
    "   VALID_COURSES = ['python', 'ds', 'hadoop', 'testing']\n",
    "   def __init__(self, name, course, is_weekday):\n",
    "       self.name = name\n",
    "       self.course = course\n",
    "       self.is_weekday = is_weekday\n",
    "       self.set_data()\n",
    "       \n",
    "   def is_valid_course(self):\n",
    "       \"\"\"\n",
    "       Validate course entered by student from VALID_COURSES list and return Bool result.\n",
    "       \"\"\"\n",
    "       #for course in self.VALID_COURSES:\n",
    "       #    if course == self.course:\n",
    "       #        return True\n",
    "       #OR You can write simple logic to check element is avaialble in list or not\n",
    "       \n",
    "       return self.course in self.VALID_COURSES\n",
    "       \n",
    "   def generate_student_id(self):\n",
    "       \"\"\"\n",
    "       Generate id and return\n",
    "       \"\"\"\n",
    "       return int(datetime.datetime.now().strftime(\"%d%M%Y\"))\n",
    "   \n",
    "   def is_valid_student(self, student_id):\n",
    "       for student in self.STUDENT_DETAILS:\n",
    "           if student_id == student['student_id']:\n",
    "               return True\n",
    "       return False\n",
    "   \n",
    "   def set_data(self):\n",
    "       \"\"\"\n",
    "       Take current student data and store into dict()\n",
    "       \"\"\"\n",
    "       student = dict()\n",
    "       student['student_id'] = self.generate_student_id()\n",
    "       student['name'] = self.name\n",
    "       if self.is_valid_course():\n",
    "           student['course'] = self.course\n",
    "       student['course'] = self.course+\" Course is not valid\"\n",
    "       student['is_weekday'] = self.is_weekday\n",
    "       self.STUDENT_DETAILS.append(student)\n",
    "   \n",
    "   def show_my_data(self, student_id):\n",
    "       for student in self.STUDENT_DETAILS:\n",
    "           if student_id == student['student_id']:\n",
    "               print(\"Student Id is %s name is %s course is %s and is weekday %s\"%(student['student_id'], student['name'], student['course'], student['is_weekday']))\n",
    "       \n",
    "   def show_all_student_data(self):\n",
    "       print(self.STUDENT_DETAILS)"
   ]
  },
  {
   "cell_type": "code",
   "execution_count": 13,
   "metadata": {},
   "outputs": [],
   "source": [
    "student1 = EtlHive('viraj', 'python', True)"
   ]
  },
  {
   "cell_type": "code",
   "execution_count": 14,
   "metadata": {},
   "outputs": [
    {
     "name": "stdout",
     "output_type": "stream",
     "text": [
      "[{'student_id': 19502020, 'name': 'viraj', 'course': 'python Course is not valid', 'is_weekday': True}]\n"
     ]
    }
   ],
   "source": [
    "student1.show_all_student_data()"
   ]
  },
  {
   "cell_type": "code",
   "execution_count": 15,
   "metadata": {},
   "outputs": [],
   "source": [
    "student1.show_my_data(19472020)"
   ]
  },
  {
   "cell_type": "code",
   "execution_count": null,
   "metadata": {},
   "outputs": [],
   "source": []
  }
 ],
 "metadata": {
  "kernelspec": {
   "display_name": "Python 3",
   "language": "python",
   "name": "python3"
  },
  "language_info": {
   "codemirror_mode": {
    "name": "ipython",
    "version": 3
   },
   "file_extension": ".py",
   "mimetype": "text/x-python",
   "name": "python",
   "nbconvert_exporter": "python",
   "pygments_lexer": "ipython3",
   "version": "3.6.4"
  }
 },
 "nbformat": 4,
 "nbformat_minor": 2
}
